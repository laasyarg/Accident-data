{
  "cells": [
    {
      "cell_type": "markdown",
      "metadata": {
        "id": "view-in-github",
        "colab_type": "text"
      },
      "source": [
        "<a href=\"https://colab.research.google.com/github/laasyarg/Accident-data/blob/main/Accidents_data.ipynb\" target=\"_parent\"><img src=\"https://colab.research.google.com/assets/colab-badge.svg\" alt=\"Open In Colab\"/></a>"
      ]
    },
    {
      "cell_type": "code",
      "execution_count": null,
      "metadata": {
        "id": "4Vdbs4DV2Aio",
        "outputId": "7ccb86f5-9a40-49ec-e028-f90480cc674f"
      },
      "outputs": [
        {
          "name": "stdout",
          "output_type": "stream",
          "text": [
            "Defaulting to user installation because normal site-packages is not writeable\n",
            "Requirement already satisfied: dmba in c:\\users\\gr0386\\appdata\\roaming\\python\\python311\\site-packages (0.2.4)\n",
            "Requirement already satisfied: graphviz in c:\\users\\gr0386\\appdata\\roaming\\python\\python311\\site-packages (from dmba) (0.20.1)\n",
            "Requirement already satisfied: matplotlib in c:\\program files\\anaconda3\\lib\\site-packages (from dmba) (3.7.2)\n",
            "Requirement already satisfied: numpy in c:\\program files\\anaconda3\\lib\\site-packages (from dmba) (1.24.3)\n",
            "Requirement already satisfied: pandas in c:\\program files\\anaconda3\\lib\\site-packages (from dmba) (2.0.3)\n",
            "Requirement already satisfied: scikit-learn in c:\\users\\gr0386\\appdata\\roaming\\python\\python311\\site-packages (from dmba) (1.4.1.post1)\n",
            "Requirement already satisfied: scipy in c:\\program files\\anaconda3\\lib\\site-packages (from dmba) (1.11.1)\n",
            "Requirement already satisfied: contourpy>=1.0.1 in c:\\program files\\anaconda3\\lib\\site-packages (from matplotlib->dmba) (1.0.5)\n",
            "Requirement already satisfied: cycler>=0.10 in c:\\program files\\anaconda3\\lib\\site-packages (from matplotlib->dmba) (0.11.0)\n",
            "Requirement already satisfied: fonttools>=4.22.0 in c:\\program files\\anaconda3\\lib\\site-packages (from matplotlib->dmba) (4.25.0)\n",
            "Requirement already satisfied: kiwisolver>=1.0.1 in c:\\program files\\anaconda3\\lib\\site-packages (from matplotlib->dmba) (1.4.4)\n",
            "Requirement already satisfied: packaging>=20.0 in c:\\program files\\anaconda3\\lib\\site-packages (from matplotlib->dmba) (23.1)\n",
            "Requirement already satisfied: pillow>=6.2.0 in c:\\program files\\anaconda3\\lib\\site-packages (from matplotlib->dmba) (9.4.0)\n",
            "Requirement already satisfied: pyparsing<3.1,>=2.3.1 in c:\\program files\\anaconda3\\lib\\site-packages (from matplotlib->dmba) (3.0.9)\n",
            "Requirement already satisfied: python-dateutil>=2.7 in c:\\program files\\anaconda3\\lib\\site-packages (from matplotlib->dmba) (2.8.2)\n",
            "Requirement already satisfied: pytz>=2020.1 in c:\\program files\\anaconda3\\lib\\site-packages (from pandas->dmba) (2023.3.post1)\n",
            "Requirement already satisfied: tzdata>=2022.1 in c:\\program files\\anaconda3\\lib\\site-packages (from pandas->dmba) (2023.3)\n",
            "Requirement already satisfied: joblib>=1.2.0 in c:\\program files\\anaconda3\\lib\\site-packages (from scikit-learn->dmba) (1.2.0)\n",
            "Requirement already satisfied: threadpoolctl>=2.0.0 in c:\\program files\\anaconda3\\lib\\site-packages (from scikit-learn->dmba) (2.2.0)\n",
            "Requirement already satisfied: six>=1.5 in c:\\program files\\anaconda3\\lib\\site-packages (from python-dateutil>=2.7->matplotlib->dmba) (1.16.0)\n"
          ]
        }
      ],
      "source": [
        "#GLR65\n",
        "!pip install dmba"
      ]
    },
    {
      "cell_type": "code",
      "execution_count": null,
      "metadata": {
        "id": "imqmAPFL2Aip"
      },
      "outputs": [],
      "source": [
        "#GLR65\n",
        "from pathlib import Path\n",
        "\n",
        "import pandas as pd\n",
        "from sklearn.model_selection import train_test_split\n",
        "from sklearn.neural_network import MLPClassifier\n",
        "import matplotlib.pyplot as plt\n",
        "\n",
        "import dmba\n",
        "from dmba import classificationSummary\n",
        "\n",
        "%matplotlib inline"
      ]
    },
    {
      "cell_type": "markdown",
      "metadata": {
        "id": "nPaZiLrR6Rir"
      },
      "source": [
        "## Table 11.2"
      ]
    },
    {
      "cell_type": "code",
      "execution_count": null,
      "metadata": {
        "id": "_iZcjpw32Aip",
        "outputId": "d1e7010c-5009-4162-d6b7-d2637ba2fa4f"
      },
      "outputs": [
        {
          "name": "stdout",
          "output_type": "stream",
          "text": [
            "Intercepts\n",
            "[array([0.13368045, 4.07247552, 7.00768104]), array([14.30748676])]\n",
            "Weights\n",
            "[array([[ -1.30656481,  -4.20427792, -13.29587332],\n",
            "       [ -0.04399727,  -4.91606924,  -6.03356987]]), array([[ -0.27348313],\n",
            "       [ -9.01211573],\n",
            "       [-17.63504694]])]\n",
            "   Obs.  Fat  Salt Acceptance   dislike      like\n",
            "0     1  0.2   0.9       like  0.000490  0.999510\n",
            "1     2  0.1   0.1    dislike  0.999994  0.000006\n",
            "2     3  0.2   0.4    dislike  0.999741  0.000259\n",
            "3     4  0.2   0.5    dislike  0.997368  0.002632\n",
            "4     5  0.4   0.5       like  0.002133  0.997867\n",
            "5     6  0.3   0.8       like  0.000075  0.999925\n"
          ]
        }
      ],
      "source": [
        "#GLR65\n",
        "example_dfGLR65 = dmba.load_data('TinyData.csv')\n",
        "\n",
        "predictors = ['Fat', 'Salt']\n",
        "outcome = 'Acceptance'\n",
        "\n",
        "X = example_dfGLR65[predictors]\n",
        "y = example_dfGLR65[outcome]\n",
        "classes = sorted(y.unique())\n",
        "\n",
        "clf = MLPClassifier(hidden_layer_sizes=[3], activation='logistic', solver='lbfgs', random_state=1)\n",
        "clf.fit(X, y)\n",
        "clf.predict(X)\n",
        "\n",
        "# Network structure\n",
        "print('Intercepts')\n",
        "print(clf.intercepts_)\n",
        "\n",
        "print('Weights')\n",
        "print(clf.coefs_)\n",
        "\n",
        "# Prediction\n",
        "print(pd.concat([\n",
        "    example_dfGLR65,\n",
        "    pd.DataFrame(clf.predict_proba(X), columns=classes)\n",
        "], axis=1))"
      ]
    },
    {
      "cell_type": "code",
      "execution_count": null,
      "metadata": {
        "id": "4j1fXja12Aiq",
        "outputId": "591418b4-46dc-4688-9855-223376f521f3"
      },
      "outputs": [
        {
          "name": "stdout",
          "output_type": "stream",
          "text": [
            "Hidden layer 2 => 3\n",
            " Intercepts:\n",
            "  [0.13368045 4.07247552 7.00768104]\n",
            " Weights:\n",
            "  [ -1.30656481  -4.20427792 -13.29587332]\n",
            "  [-0.04399727 -4.91606924 -6.03356987]\n",
            "\n",
            "Output layer 3 => 1\n",
            " Intercepts:\n",
            "  [14.30748676]\n",
            " Weights:\n",
            "  [-0.27348313]\n",
            "  [-9.01211573]\n",
            "  [-17.63504694]\n",
            "\n"
          ]
        }
      ],
      "source": [
        "#GLR65\n",
        "# Pretty print layers\n",
        "for i, (weights, intercepts) in enumerate(zip(clf.coefs_, clf.intercepts_)):\n",
        "    print('Hidden layer' if i == 0 else 'Output layer', '{0[0]} => {0[1]}'.format(weights.shape))\n",
        "    print(' Intercepts:\\n ', intercepts)\n",
        "    print(' Weights:')\n",
        "    for weight in weights:\n",
        "        print(' ', weight)\n",
        "    print()"
      ]
    },
    {
      "cell_type": "markdown",
      "metadata": {
        "id": "hYap2fu76Ris"
      },
      "source": [
        "## Table 11.3"
      ]
    },
    {
      "cell_type": "code",
      "execution_count": null,
      "metadata": {
        "id": "q08SqCrB2Aiq",
        "outputId": "f14536ed-abb9-4f17-e25a-b4a16548dc0f"
      },
      "outputs": [
        {
          "name": "stdout",
          "output_type": "stream",
          "text": [
            "Confusion Matrix (Accuracy 1.0000)\n",
            "\n",
            "        Prediction\n",
            " Actual dislike    like\n",
            "dislike       3       0\n",
            "   like       0       3\n"
          ]
        }
      ],
      "source": [
        "#GLR65\n",
        "classificationSummary(y, clf.predict(X), class_names=classes)"
      ]
    },
    {
      "cell_type": "markdown",
      "metadata": {
        "id": "fBR1cvyx6Rit"
      },
      "source": [
        "## Table 11.6"
      ]
    },
    {
      "cell_type": "code",
      "execution_count": null,
      "metadata": {
        "id": "yRVWx_XE2Aiq",
        "outputId": "82eb6754-3758-43ec-f90f-4a21434acf97"
      },
      "outputs": [
        {
          "name": "stdout",
          "output_type": "stream",
          "text": [
            "Confusion Matrix (Accuracy 0.8664)\n",
            "\n",
            "       Prediction\n",
            "Actual   0   1   2\n",
            "     0 331   0   1\n",
            "     1   0 180   0\n",
            "     2  30  49   8\n",
            "Confusion Matrix (Accuracy 0.8550)\n",
            "\n",
            "       Prediction\n",
            "Actual   0   1   2\n",
            "     0 218   0   1\n",
            "     1   0 119   0\n",
            "     2  24  33   5\n"
          ]
        }
      ],
      "source": [
        "#GLR65\n",
        "accidents_dfGLR65 = dmba.load_data('accidentsnn.csv')\n",
        "input_vars = ['ALCHL_I', 'PROFIL_I_R', 'VEH_INVL']\n",
        "\n",
        "accidents_dfGLR65.SUR_COND = accidents_dfGLR65.SUR_COND.astype('category')\n",
        "accidents_dfGLR65.MAX_SEV_IR = accidents_dfGLR65.MAX_SEV_IR.astype('category')\n",
        "\n",
        "# convert the categorical data into dummy variables\n",
        "# exclude the column for SUR_COND 9 = unknown\n",
        "processed = pd.get_dummies(accidents_dfGLR65, columns=['SUR_COND']).drop(columns=['SUR_COND_9'])\n",
        "\n",
        "outcome = 'MAX_SEV_IR'\n",
        "predictors = [c for c in processed.columns if c != outcome]\n",
        "\n",
        "# partition data\n",
        "X = processed[predictors]\n",
        "y = processed[outcome]\n",
        "train_X, valid_X, train_y, valid_y = train_test_split(X, y, test_size=0.4, random_state=1)\n",
        "\n",
        "# train neural network with 2 hidden nodes\n",
        "clf = MLPClassifier(hidden_layer_sizes=[2], activation='logistic', solver='lbfgs',\n",
        "                    random_state=1)\n",
        "clf.fit(train_X, train_y.values)\n",
        "\n",
        "# training performance (use idxmax to revert the one-hot-encoding)\n",
        "classificationSummary(train_y, clf.predict(train_X))\n",
        "\n",
        "# validation performance\n",
        "classificationSummary(valid_y, clf.predict(valid_X))"
      ]
    },
    {
      "cell_type": "markdown",
      "metadata": {
        "id": "2BZa2ELe6Rit"
      },
      "source": [
        "## Fitting class probabilities separately"
      ]
    },
    {
      "cell_type": "code",
      "execution_count": null,
      "metadata": {
        "id": "TcaUIvSt2Aiq",
        "outputId": "3dc21759-ed46-49b4-ba82-35dc66e47ca0"
      },
      "outputs": [
        {
          "name": "stdout",
          "output_type": "stream",
          "text": [
            "Confusion Matrix (Accuracy 0.8731)\n",
            "\n",
            "             Prediction\n",
            "      Actual MAX_SEV_IR_0 MAX_SEV_IR_1 MAX_SEV_IR_2\n",
            "MAX_SEV_IR_0          332            0            0\n",
            "MAX_SEV_IR_1            0          170           10\n",
            "MAX_SEV_IR_2           31           35           21\n",
            "Confusion Matrix (Accuracy 0.8675)\n",
            "\n",
            "             Prediction\n",
            "      Actual MAX_SEV_IR_0 MAX_SEV_IR_1 MAX_SEV_IR_2\n",
            "MAX_SEV_IR_0          218            0            1\n",
            "MAX_SEV_IR_1            0          113            6\n",
            "MAX_SEV_IR_2           24           22           16\n"
          ]
        }
      ],
      "source": [
        "#GLR65\n",
        "accidents_dfGLR65 = dmba.load_data('accidentsnn.csv')\n",
        "input_vars = ['ALCHL_I', 'PROFIL_I_R', 'VEH_INVL']\n",
        "\n",
        "accidents_dfGLR65.SUR_COND = accidents_dfGLR65.SUR_COND.astype('category')\n",
        "accidents_dfGLR65.MAX_SEV_IR = accidents_dfGLR65.MAX_SEV_IR.astype('category')\n",
        "\n",
        "# convert the categorical data into dummy variables\n",
        "processed = pd.get_dummies(accidents_dfGLR65)\n",
        "# drop the column for SUR_COND 9 = unknown\n",
        "processed = processed.drop(columns=['SUR_COND_9'])\n",
        "\n",
        "outcome = ['MAX_SEV_IR_0', 'MAX_SEV_IR_1', 'MAX_SEV_IR_2']\n",
        "predictors = [c for c in processed.columns if c not in outcome]\n",
        "classes = sorted(outcome)\n",
        "\n",
        "# partition data\n",
        "X = processed[predictors]\n",
        "y = processed[outcome]\n",
        "train_X, valid_X, train_y, valid_y = train_test_split(X, y, test_size=0.4, random_state=1)\n",
        "\n",
        "# train neural network with 2 hidden nodes\n",
        "clf = MLPClassifier(hidden_layer_sizes=[2], activation='logistic', solver='lbfgs',\n",
        "                    random_state=1, max_iter=500)\n",
        "clf.fit(train_X, train_y)\n",
        "\n",
        "# training performance (use idxmax to revert the one-hot-encoding)\n",
        "trainPrediction = pd.DataFrame(clf.predict(train_X), columns=outcome).idxmax(axis=1)\n",
        "classificationSummary(train_y.idxmax(axis=1), trainPrediction, class_names=classes)\n",
        "\n",
        "# validation performance\n",
        "validPrediction = pd.DataFrame(clf.predict(valid_X), columns=outcome).idxmax(axis=1)\n",
        "classificationSummary(valid_y.idxmax(axis=1), validPrediction, class_names=classes)"
      ]
    },
    {
      "cell_type": "markdown",
      "metadata": {
        "id": "CmLeOlQp6Rit"
      },
      "source": [
        "## Grid search"
      ]
    },
    {
      "cell_type": "code",
      "execution_count": null,
      "metadata": {
        "id": "9L-IA5LB2Air",
        "outputId": "35613b3f-1a88-4f65-d027-f9edb3aba2b5"
      },
      "outputs": [
        {
          "name": "stdout",
          "output_type": "stream",
          "text": [
            "Best score:  0.8630672268907563\n",
            "Best parameters:  {'hidden_layer_sizes': [4]}\n"
          ]
        }
      ],
      "source": [
        "#GLR65\n",
        "from sklearn.model_selection import cross_val_score, train_test_split, GridSearchCV\n",
        "\n",
        "# train neural network with 2 hidden nodes\n",
        "clf = MLPClassifier(hidden_layer_sizes=[2], activation='logistic', solver='lbfgs',\n",
        "                    random_state=1, max_iter=500)\n",
        "clf.fit(train_X, train_y.values)\n",
        "\n",
        "param_grid = {\n",
        "    'hidden_layer_sizes': [[1], [2], [3], [4], [5]]\n",
        "}\n",
        "gridSearch = GridSearchCV(MLPClassifier(activation='logistic', solver='lbfgs', random_state=1, max_iter=3000),\n",
        "                          param_grid, cv=5, n_jobs=-1, return_train_score=True)\n",
        "gridSearch.fit(train_X, train_y)\n",
        "print('Best score: ', gridSearch.best_score_)\n",
        "print('Best parameters: ', gridSearch.best_params_)"
      ]
    },
    {
      "cell_type": "code",
      "execution_count": null,
      "metadata": {
        "id": "V0tdJqbK2Air",
        "outputId": "2e20d57a-5b7c-4491-b42c-318cf5729e87"
      },
      "outputs": [
        {
          "name": "stdout",
          "output_type": "stream",
          "text": [
            "  param_hidden_layer_sizes  mean_test_score  std_test_score\n",
            "0                      [1]         0.844762        0.011030\n",
            "1                      [2]         0.848067        0.009913\n",
            "2                      [3]         0.859734        0.025691\n",
            "3                      [4]         0.863067        0.024167\n",
            "4                      [5]         0.854748        0.023393\n"
          ]
        }
      ],
      "source": [
        "#GLR65\n",
        "display=['param_hidden_layer_sizes', 'mean_test_score', 'std_test_score']\n",
        "print(pd.DataFrame(gridSearch.cv_results_)[display])"
      ]
    },
    {
      "cell_type": "code",
      "execution_count": null,
      "metadata": {
        "id": "qdL2pe-f2Air",
        "outputId": "9114faae-dd0c-458d-8341-269880a83518"
      },
      "outputs": [
        {
          "data": {
            "image/png": "[encoded data removed]",
            "text/plain": [
              "<Figure size 640x480 with 1 Axes>"
            ]
          },
          "metadata": {},
          "output_type": "display_data"
        }
      ],
      "source": [
        "#GLR65\n",
        "pd.DataFrame(gridSearch.cv_results_)[display].plot(x='param_hidden_layer_sizes',\n",
        "                                                   y='mean_test_score', yerr='std_test_score', ylim=(0.8, 0.9))\n",
        "plt.show()"
      ]
    },
    {
      "cell_type": "markdown",
      "metadata": {
        "id": "s3ZGQNdv6Riu"
      },
      "source": [
        "# Code blocks below are for related figures"
      ]
    },
    {
      "cell_type": "code",
      "execution_count": null,
      "metadata": {
        "id": "3w6BBMgQ2Air"
      },
      "outputs": [],
      "source": [
        "#GLR65\n",
        "from pathlib import Path\n",
        "\n",
        "import graphviz\n",
        "from IPython.display import Image\n",
        "import numbers\n",
        "\n",
        "import dmba\n",
        "\n",
        "%matplotlib inline"
      ]
    },
    {
      "cell_type": "code",
      "execution_count": null,
      "metadata": {
        "id": "27jlu1FS6Riv"
      },
      "outputs": [],
      "source": [
        "#GLR65\n",
        "def layoutGraph(dot_data, pdfFile=None):\n",
        "    graph = graphviz.Source(dot_data)\n",
        "    return graph"
      ]
    },
    {
      "cell_type": "code",
      "execution_count": null,
      "metadata": {
        "colab": {
          "base_uri": "https://localhost:8080/",
          "height": 302
        },
        "id": "DD4nioFy6Riv",
        "outputId": "062c33e4-2411-4ff2-abe7-e49eeb3c302c"
      },
      "outputs": [
        {
          "name": "stdout",
          "output_type": "stream",
          "text": [
            "\n",
            "digraph ethane {\n",
            "\n",
            "edge [ fontsize=11, color=gray55 ];\n",
            "rankdir=LR;\n",
            "# size=\"10,10\"\n",
            "graph [ranksep=\"0.8\"];\n",
            "\n",
            "Salt [ label=\"Salt\", fontsize=11, color=white ];\n",
            "Fat [ label=\"Fat\", fontsize=11, color=white ];\n",
            "subgraph cluster_input { label=\"Input layer\"; color=\"grey75\";\n",
            "    2 [ label=\"N2\", fontsize=11, shape=record, style=rounded, color=gray26 ];\n",
            "    1 [ label=\"N1\", fontsize=11, shape=record, style=rounded, color=gray26 ];\n",
            "}\n",
            "subgraph cluster_hidden { label=\"Hidden layer\"; color=\"grey75\";\n",
            "    4 [ label=\"N4&#92;n&theta;4\", shape=record, style=rounded, fontsize=11, color=gray26 ];\n",
            "    3 [ label=\"N3&#92;n&theta;3\", shape=record, style=rounded, fontsize=11, color=gray26 ];\n",
            "    5 [ label=\"N5&#92;n&theta;5\", shape=record, style=rounded, fontsize=11, color=gray26 ];\n",
            "}\n",
            "subgraph cluster_output { label=\"Output layer\"; color=\"grey75\";\n",
            "    6 [ label=\"N6&#92;n&theta;6\", shape=record, style=rounded, fontsize=11, color=gray26 ];\n",
            "}\n",
            "like [ label=\"like\", fontsize=11, color=white ];\n",
            "Salt -> 2;\n",
            "Fat -> 1;\n",
            "1 -> 3 [ label=\"w13\" ];\n",
            "2 -> 3 [ label=\"w23\" ];\n",
            "1 -> 4 [ label=\"w14\" ];\n",
            "2 -> 4 [ label=\"w24\" ];\n",
            "1 -> 5 [ label=\"w15\" ];\n",
            "2 -> 5 [ label=\"w25\" ];\n",
            "3 -> 6 [ label=\"w36\" ];\n",
            "4 -> 6 [ label=\"w46\" ];\n",
            "5 -> 6 [ label=\"w56\" ];\n",
            "6 -> like\n",
            " }\n",
            " \n"
          ]
        }
      ],
      "source": [
        "#GLR65\n",
        "import numbers\n",
        "\n",
        "def unbiasedNode(id, label=None, output=None, style=None):\n",
        "    label = label or f'N{id}'\n",
        "    common = style or 'shape=record, style=rounded, color=gray26'\n",
        "    if output is None:\n",
        "        return f'{id} [ label=\"{label}\", fontsize=11, {common} ];'\n",
        "    return f'{id} [ label=\"{{ {label} | {output:.2f} }}\", fontsize=11, {common} ];'\n",
        "\n",
        "def biasedNode(id, bias, label=None, output=None):\n",
        "    label = label or f'N{id}'\n",
        "    if isinstance(bias, numbers.Number):\n",
        "        bias = f'{bias:.3f}'\n",
        "    if isinstance(output, numbers.Number):\n",
        "        output = f'{output:.3f}'\n",
        "    common = 'shape=record, style=rounded, fontsize=11, color=gray26'\n",
        "    if output is None:\n",
        "        return f'{id} [ label=\"{label}&#92;n{bias}\", {common} ];'\n",
        "    return f'{id} [ label=\"{{ {label}&#92;n{bias} | {output} }}\", {common} ];'\n",
        "\n",
        "def edge(n1, n2, weight=None):\n",
        "    if weight is None:\n",
        "        return f'{n1} -> {n2} [ label=\"w{n1}{n2}\" ];'\n",
        "    return f'{n1} -> {n2} [ label=\"{weight:.3f}\" ];'\n",
        "\n",
        "commonSettings = \"\"\"\n",
        "edge [ fontsize=11, color=gray55 ];\n",
        "rankdir=LR;\n",
        "# size=\"10,10\"\n",
        "graph [ranksep=\"0.8\"];\n",
        "\"\"\"\n",
        "\n",
        "s = f\"\"\"\n",
        "digraph ethane {{\n",
        "{ commonSettings }\n",
        "{ unbiasedNode('Salt', label='Salt', style='color=white') }\n",
        "{ unbiasedNode('Fat', label='Fat', style='color=white') }\n",
        "subgraph cluster_input {{ label=\"Input layer\"; color=\"grey75\";\n",
        "    { unbiasedNode(2) }\n",
        "    { unbiasedNode(1) }\n",
        "}}\n",
        "subgraph cluster_hidden {{ label=\"Hidden layer\"; color=\"grey75\";\n",
        "    { biasedNode(4, '&theta;4')}\n",
        "    { biasedNode(3, '&theta;3')}\n",
        "    { biasedNode(5, '&theta;5')}\n",
        "}}\n",
        "subgraph cluster_output {{ label=\"Output layer\"; color=\"grey75\";\n",
        "    { biasedNode(6, '&theta;6')}\n",
        "}}\n",
        "{ unbiasedNode('like', label='like', style='color=white') }\n",
        "Salt -> 2;\n",
        "Fat -> 1;\n",
        "{ edge(1, 3) }\n",
        "{ edge(2, 3) }\n",
        "{ edge(1, 4) }\n",
        "{ edge(2, 4) }\n",
        "{ edge(1, 5) }\n",
        "{ edge(2, 5) }\n",
        "{ edge(3, 6) }\n",
        "{ edge(4, 6) }\n",
        "{ edge(5, 6) }\n",
        "6 -> like\n",
        " }}\n",
        " \"\"\"\n",
        "print(s)\n"
      ]
    },
    {
      "cell_type": "code",
      "execution_count": null,
      "metadata": {
        "colab": {
          "base_uri": "https://localhost:8080/",
          "height": 253
        },
        "id": "_HEHKuUW6Riv",
        "outputId": "acfd19a7-dcdc-4eb4-810b-5655a8cbea1d"
      },
      "outputs": [
        {
          "ename": "ExecutableNotFound",
          "evalue": "failed to execute WindowsPath('dot'), make sure the Graphviz executables are on your systems' PATH",
          "output_type": "error",
          "traceback": [
            "\u001b[1;31m---------------------------------------------------------------------------\u001b[0m",
            "\u001b[1;31mFileNotFoundError\u001b[0m                         Traceback (most recent call last)",
            "File \u001b[1;32m~\\AppData\\Roaming\\Python\\Python311\\site-packages\\graphviz\\backend\\execute.py:81\u001b[0m, in \u001b[0;36mrun_check\u001b[1;34m(cmd, input_lines, encoding, quiet, **kwargs)\u001b[0m\n\u001b[0;32m     80\u001b[0m     \u001b[38;5;28;01melse\u001b[39;00m:\n\u001b[1;32m---> 81\u001b[0m         proc \u001b[38;5;241m=\u001b[39m subprocess\u001b[38;5;241m.\u001b[39mrun(cmd, \u001b[38;5;241m*\u001b[39m\u001b[38;5;241m*\u001b[39mkwargs)\n\u001b[0;32m     82\u001b[0m \u001b[38;5;28;01mexcept\u001b[39;00m \u001b[38;5;167;01mOSError\u001b[39;00m \u001b[38;5;28;01mas\u001b[39;00m e:\n",
            "File \u001b[1;32mC:\\Program Files\\Anaconda3\\Lib\\subprocess.py:548\u001b[0m, in \u001b[0;36mrun\u001b[1;34m(input, capture_output, timeout, check, *popenargs, **kwargs)\u001b[0m\n\u001b[0;32m    546\u001b[0m     kwargs[\u001b[38;5;124m'\u001b[39m\u001b[38;5;124mstderr\u001b[39m\u001b[38;5;124m'\u001b[39m] \u001b[38;5;241m=\u001b[39m PIPE\n\u001b[1;32m--> 548\u001b[0m \u001b[38;5;28;01mwith\u001b[39;00m Popen(\u001b[38;5;241m*\u001b[39mpopenargs, \u001b[38;5;241m*\u001b[39m\u001b[38;5;241m*\u001b[39mkwargs) \u001b[38;5;28;01mas\u001b[39;00m process:\n\u001b[0;32m    549\u001b[0m     \u001b[38;5;28;01mtry\u001b[39;00m:\n",
            "File \u001b[1;32mC:\\Program Files\\Anaconda3\\Lib\\subprocess.py:1026\u001b[0m, in \u001b[0;36mPopen.__init__\u001b[1;34m(self, args, bufsize, executable, stdin, stdout, stderr, preexec_fn, close_fds, shell, cwd, env, universal_newlines, startupinfo, creationflags, restore_signals, start_new_session, pass_fds, user, group, extra_groups, encoding, errors, text, umask, pipesize, process_group)\u001b[0m\n\u001b[0;32m   1023\u001b[0m             \u001b[38;5;28mself\u001b[39m\u001b[38;5;241m.\u001b[39mstderr \u001b[38;5;241m=\u001b[39m io\u001b[38;5;241m.\u001b[39mTextIOWrapper(\u001b[38;5;28mself\u001b[39m\u001b[38;5;241m.\u001b[39mstderr,\n\u001b[0;32m   1024\u001b[0m                     encoding\u001b[38;5;241m=\u001b[39mencoding, errors\u001b[38;5;241m=\u001b[39merrors)\n\u001b[1;32m-> 1026\u001b[0m     \u001b[38;5;28mself\u001b[39m\u001b[38;5;241m.\u001b[39m_execute_child(args, executable, preexec_fn, close_fds,\n\u001b[0;32m   1027\u001b[0m                         pass_fds, cwd, env,\n\u001b[0;32m   1028\u001b[0m                         startupinfo, creationflags, shell,\n\u001b[0;32m   1029\u001b[0m                         p2cread, p2cwrite,\n\u001b[0;32m   1030\u001b[0m                         c2pread, c2pwrite,\n\u001b[0;32m   1031\u001b[0m                         errread, errwrite,\n\u001b[0;32m   1032\u001b[0m                         restore_signals,\n\u001b[0;32m   1033\u001b[0m                         gid, gids, uid, umask,\n\u001b[0;32m   1034\u001b[0m                         start_new_session, process_group)\n\u001b[0;32m   1035\u001b[0m \u001b[38;5;28;01mexcept\u001b[39;00m:\n\u001b[0;32m   1036\u001b[0m     \u001b[38;5;66;03m# Cleanup if the child failed starting.\u001b[39;00m\n",
            "File \u001b[1;32mC:\\Program Files\\Anaconda3\\Lib\\subprocess.py:1538\u001b[0m, in \u001b[0;36mPopen._execute_child\u001b[1;34m(self, args, executable, preexec_fn, close_fds, pass_fds, cwd, env, startupinfo, creationflags, shell, p2cread, p2cwrite, c2pread, c2pwrite, errread, errwrite, unused_restore_signals, unused_gid, unused_gids, unused_uid, unused_umask, unused_start_new_session, unused_process_group)\u001b[0m\n\u001b[0;32m   1537\u001b[0m \u001b[38;5;28;01mtry\u001b[39;00m:\n\u001b[1;32m-> 1538\u001b[0m     hp, ht, pid, tid \u001b[38;5;241m=\u001b[39m _winapi\u001b[38;5;241m.\u001b[39mCreateProcess(executable, args,\n\u001b[0;32m   1539\u001b[0m                              \u001b[38;5;66;03m# no special security\u001b[39;00m\n\u001b[0;32m   1540\u001b[0m                              \u001b[38;5;28;01mNone\u001b[39;00m, \u001b[38;5;28;01mNone\u001b[39;00m,\n\u001b[0;32m   1541\u001b[0m                              \u001b[38;5;28mint\u001b[39m(\u001b[38;5;129;01mnot\u001b[39;00m close_fds),\n\u001b[0;32m   1542\u001b[0m                              creationflags,\n\u001b[0;32m   1543\u001b[0m                              env,\n\u001b[0;32m   1544\u001b[0m                              cwd,\n\u001b[0;32m   1545\u001b[0m                              startupinfo)\n\u001b[0;32m   1546\u001b[0m \u001b[38;5;28;01mfinally\u001b[39;00m:\n\u001b[0;32m   1547\u001b[0m     \u001b[38;5;66;03m# Child is launched. Close the parent's copy of those pipe\u001b[39;00m\n\u001b[0;32m   1548\u001b[0m     \u001b[38;5;66;03m# handles that only the child should have open.  You need\u001b[39;00m\n\u001b[1;32m   (...)\u001b[0m\n\u001b[0;32m   1551\u001b[0m     \u001b[38;5;66;03m# pipe will not close when the child process exits and the\u001b[39;00m\n\u001b[0;32m   1552\u001b[0m     \u001b[38;5;66;03m# ReadFile will hang.\u001b[39;00m\n",
            "\u001b[1;31mFileNotFoundError\u001b[0m: [WinError 2] The system cannot find the file specified",
            "\nThe above exception was the direct cause of the following exception:\n",
            "\u001b[1;31mExecutableNotFound\u001b[0m                        Traceback (most recent call last)",
            "Cell \u001b[1;32mIn[9], line 90\u001b[0m\n\u001b[0;32m     88\u001b[0m dot\u001b[38;5;241m.\u001b[39medge(\u001b[38;5;124m'\u001b[39m\u001b[38;5;124m5\u001b[39m\u001b[38;5;124m'\u001b[39m, \u001b[38;5;124m'\u001b[39m\u001b[38;5;124m6\u001b[39m\u001b[38;5;124m'\u001b[39m, label\u001b[38;5;241m=\u001b[39m\u001b[38;5;124m'\u001b[39m\u001b[38;5;124m0.015\u001b[39m\u001b[38;5;124m'\u001b[39m)\n\u001b[0;32m     89\u001b[0m dot\u001b[38;5;241m.\u001b[39medge(\u001b[38;5;124m'\u001b[39m\u001b[38;5;124m6\u001b[39m\u001b[38;5;124m'\u001b[39m, \u001b[38;5;124m'\u001b[39m\u001b[38;5;124mlike\u001b[39m\u001b[38;5;124m'\u001b[39m)\n\u001b[1;32m---> 90\u001b[0m dot\u001b[38;5;241m.\u001b[39mrender(\u001b[38;5;124m'\u001b[39m\u001b[38;5;124methane\u001b[39m\u001b[38;5;124m'\u001b[39m, \u001b[38;5;28mformat\u001b[39m\u001b[38;5;241m=\u001b[39m\u001b[38;5;124m'\u001b[39m\u001b[38;5;124mpng\u001b[39m\u001b[38;5;124m'\u001b[39m, cleanup\u001b[38;5;241m=\u001b[39m\u001b[38;5;28;01mTrue\u001b[39;00m)\n",
            "File \u001b[1;32m~\\AppData\\Roaming\\Python\\Python311\\site-packages\\graphviz\\_tools.py:171\u001b[0m, in \u001b[0;36mdeprecate_positional_args.<locals>.decorator.<locals>.wrapper\u001b[1;34m(*args, **kwargs)\u001b[0m\n\u001b[0;32m    162\u001b[0m     wanted \u001b[38;5;241m=\u001b[39m \u001b[38;5;124m'\u001b[39m\u001b[38;5;124m, \u001b[39m\u001b[38;5;124m'\u001b[39m\u001b[38;5;241m.\u001b[39mjoin(\u001b[38;5;124mf\u001b[39m\u001b[38;5;124m'\u001b[39m\u001b[38;5;132;01m{\u001b[39;00mname\u001b[38;5;132;01m}\u001b[39;00m\u001b[38;5;124m=\u001b[39m\u001b[38;5;132;01m{\u001b[39;00mvalue\u001b[38;5;132;01m!r}\u001b[39;00m\u001b[38;5;124m'\u001b[39m\n\u001b[0;32m    163\u001b[0m                        \u001b[38;5;28;01mfor\u001b[39;00m name, value \u001b[38;5;129;01min\u001b[39;00m deprecated\u001b[38;5;241m.\u001b[39mitems())\n\u001b[0;32m    164\u001b[0m     warnings\u001b[38;5;241m.\u001b[39mwarn(\u001b[38;5;124mf\u001b[39m\u001b[38;5;124m'\u001b[39m\u001b[38;5;124mThe signature of \u001b[39m\u001b[38;5;132;01m{\u001b[39;00mfunc\u001b[38;5;241m.\u001b[39m\u001b[38;5;18m__name__\u001b[39m\u001b[38;5;132;01m}\u001b[39;00m\u001b[38;5;124m will be reduced\u001b[39m\u001b[38;5;124m'\u001b[39m\n\u001b[0;32m    165\u001b[0m                   \u001b[38;5;124mf\u001b[39m\u001b[38;5;124m'\u001b[39m\u001b[38;5;124m to \u001b[39m\u001b[38;5;132;01m{\u001b[39;00msupported_number\u001b[38;5;132;01m}\u001b[39;00m\u001b[38;5;124m positional args\u001b[39m\u001b[38;5;124m'\u001b[39m\n\u001b[0;32m    166\u001b[0m                   \u001b[38;5;124mf\u001b[39m\u001b[38;5;124m'\u001b[39m\u001b[38;5;124m \u001b[39m\u001b[38;5;132;01m{\u001b[39;00m\u001b[38;5;28mlist\u001b[39m(supported)\u001b[38;5;132;01m}\u001b[39;00m\u001b[38;5;124m: pass \u001b[39m\u001b[38;5;132;01m{\u001b[39;00mwanted\u001b[38;5;132;01m}\u001b[39;00m\u001b[38;5;124m'\u001b[39m\n\u001b[0;32m    167\u001b[0m                   \u001b[38;5;124m'\u001b[39m\u001b[38;5;124m as keyword arg(s)\u001b[39m\u001b[38;5;124m'\u001b[39m,\n\u001b[0;32m    168\u001b[0m                   stacklevel\u001b[38;5;241m=\u001b[39mstacklevel,\n\u001b[0;32m    169\u001b[0m                   category\u001b[38;5;241m=\u001b[39mcategory)\n\u001b[1;32m--> 171\u001b[0m \u001b[38;5;28;01mreturn\u001b[39;00m func(\u001b[38;5;241m*\u001b[39margs, \u001b[38;5;241m*\u001b[39m\u001b[38;5;241m*\u001b[39mkwargs)\n",
            "File \u001b[1;32m~\\AppData\\Roaming\\Python\\Python311\\site-packages\\graphviz\\rendering.py:122\u001b[0m, in \u001b[0;36mRender.render\u001b[1;34m(self, filename, directory, view, cleanup, format, renderer, formatter, neato_no_op, quiet, quiet_view, outfile, engine, raise_if_result_exists, overwrite_source)\u001b[0m\n\u001b[0;32m    118\u001b[0m filepath \u001b[38;5;241m=\u001b[39m \u001b[38;5;28mself\u001b[39m\u001b[38;5;241m.\u001b[39msave(filename, directory\u001b[38;5;241m=\u001b[39mdirectory, skip_existing\u001b[38;5;241m=\u001b[39m\u001b[38;5;28;01mNone\u001b[39;00m)\n\u001b[0;32m    120\u001b[0m args\u001b[38;5;241m.\u001b[39mappend(filepath)\n\u001b[1;32m--> 122\u001b[0m rendered \u001b[38;5;241m=\u001b[39m \u001b[38;5;28mself\u001b[39m\u001b[38;5;241m.\u001b[39m_render(\u001b[38;5;241m*\u001b[39margs, \u001b[38;5;241m*\u001b[39m\u001b[38;5;241m*\u001b[39mkwargs)\n\u001b[0;32m    124\u001b[0m \u001b[38;5;28;01mif\u001b[39;00m cleanup:\n\u001b[0;32m    125\u001b[0m     log\u001b[38;5;241m.\u001b[39mdebug(\u001b[38;5;124m'\u001b[39m\u001b[38;5;124mdelete \u001b[39m\u001b[38;5;132;01m%r\u001b[39;00m\u001b[38;5;124m'\u001b[39m, filepath)\n",
            "File \u001b[1;32m~\\AppData\\Roaming\\Python\\Python311\\site-packages\\graphviz\\_tools.py:171\u001b[0m, in \u001b[0;36mdeprecate_positional_args.<locals>.decorator.<locals>.wrapper\u001b[1;34m(*args, **kwargs)\u001b[0m\n\u001b[0;32m    162\u001b[0m     wanted \u001b[38;5;241m=\u001b[39m \u001b[38;5;124m'\u001b[39m\u001b[38;5;124m, \u001b[39m\u001b[38;5;124m'\u001b[39m\u001b[38;5;241m.\u001b[39mjoin(\u001b[38;5;124mf\u001b[39m\u001b[38;5;124m'\u001b[39m\u001b[38;5;132;01m{\u001b[39;00mname\u001b[38;5;132;01m}\u001b[39;00m\u001b[38;5;124m=\u001b[39m\u001b[38;5;132;01m{\u001b[39;00mvalue\u001b[38;5;132;01m!r}\u001b[39;00m\u001b[38;5;124m'\u001b[39m\n\u001b[0;32m    163\u001b[0m                        \u001b[38;5;28;01mfor\u001b[39;00m name, value \u001b[38;5;129;01min\u001b[39;00m deprecated\u001b[38;5;241m.\u001b[39mitems())\n\u001b[0;32m    164\u001b[0m     warnings\u001b[38;5;241m.\u001b[39mwarn(\u001b[38;5;124mf\u001b[39m\u001b[38;5;124m'\u001b[39m\u001b[38;5;124mThe signature of \u001b[39m\u001b[38;5;132;01m{\u001b[39;00mfunc\u001b[38;5;241m.\u001b[39m\u001b[38;5;18m__name__\u001b[39m\u001b[38;5;132;01m}\u001b[39;00m\u001b[38;5;124m will be reduced\u001b[39m\u001b[38;5;124m'\u001b[39m\n\u001b[0;32m    165\u001b[0m                   \u001b[38;5;124mf\u001b[39m\u001b[38;5;124m'\u001b[39m\u001b[38;5;124m to \u001b[39m\u001b[38;5;132;01m{\u001b[39;00msupported_number\u001b[38;5;132;01m}\u001b[39;00m\u001b[38;5;124m positional args\u001b[39m\u001b[38;5;124m'\u001b[39m\n\u001b[0;32m    166\u001b[0m                   \u001b[38;5;124mf\u001b[39m\u001b[38;5;124m'\u001b[39m\u001b[38;5;124m \u001b[39m\u001b[38;5;132;01m{\u001b[39;00m\u001b[38;5;28mlist\u001b[39m(supported)\u001b[38;5;132;01m}\u001b[39;00m\u001b[38;5;124m: pass \u001b[39m\u001b[38;5;132;01m{\u001b[39;00mwanted\u001b[38;5;132;01m}\u001b[39;00m\u001b[38;5;124m'\u001b[39m\n\u001b[0;32m    167\u001b[0m                   \u001b[38;5;124m'\u001b[39m\u001b[38;5;124m as keyword arg(s)\u001b[39m\u001b[38;5;124m'\u001b[39m,\n\u001b[0;32m    168\u001b[0m                   stacklevel\u001b[38;5;241m=\u001b[39mstacklevel,\n\u001b[0;32m    169\u001b[0m                   category\u001b[38;5;241m=\u001b[39mcategory)\n\u001b[1;32m--> 171\u001b[0m \u001b[38;5;28;01mreturn\u001b[39;00m func(\u001b[38;5;241m*\u001b[39margs, \u001b[38;5;241m*\u001b[39m\u001b[38;5;241m*\u001b[39mkwargs)\n",
            "File \u001b[1;32m~\\AppData\\Roaming\\Python\\Python311\\site-packages\\graphviz\\backend\\rendering.py:324\u001b[0m, in \u001b[0;36mrender\u001b[1;34m(engine, format, filepath, renderer, formatter, neato_no_op, quiet, outfile, raise_if_result_exists, overwrite_filepath)\u001b[0m\n\u001b[0;32m    320\u001b[0m     \u001b[38;5;28;01mraise\u001b[39;00m exceptions\u001b[38;5;241m.\u001b[39mFileExistsError(\u001b[38;5;124mf\u001b[39m\u001b[38;5;124m'\u001b[39m\u001b[38;5;124moutput file exists: \u001b[39m\u001b[38;5;132;01m{\u001b[39;00mos\u001b[38;5;241m.\u001b[39mfspath(outfile)\u001b[38;5;132;01m!r}\u001b[39;00m\u001b[38;5;124m'\u001b[39m)\n\u001b[0;32m    322\u001b[0m cmd \u001b[38;5;241m+\u001b[39m\u001b[38;5;241m=\u001b[39m args\n\u001b[1;32m--> 324\u001b[0m execute\u001b[38;5;241m.\u001b[39mrun_check(cmd,\n\u001b[0;32m    325\u001b[0m                   cwd\u001b[38;5;241m=\u001b[39mfilepath\u001b[38;5;241m.\u001b[39mparent \u001b[38;5;28;01mif\u001b[39;00m filepath\u001b[38;5;241m.\u001b[39mparent\u001b[38;5;241m.\u001b[39mparts \u001b[38;5;28;01melse\u001b[39;00m \u001b[38;5;28;01mNone\u001b[39;00m,\n\u001b[0;32m    326\u001b[0m                   quiet\u001b[38;5;241m=\u001b[39mquiet,\n\u001b[0;32m    327\u001b[0m                   capture_output\u001b[38;5;241m=\u001b[39m\u001b[38;5;28;01mTrue\u001b[39;00m)\n\u001b[0;32m    329\u001b[0m \u001b[38;5;28;01mreturn\u001b[39;00m os\u001b[38;5;241m.\u001b[39mfspath(outfile)\n",
            "File \u001b[1;32m~\\AppData\\Roaming\\Python\\Python311\\site-packages\\graphviz\\backend\\execute.py:84\u001b[0m, in \u001b[0;36mrun_check\u001b[1;34m(cmd, input_lines, encoding, quiet, **kwargs)\u001b[0m\n\u001b[0;32m     82\u001b[0m \u001b[38;5;28;01mexcept\u001b[39;00m \u001b[38;5;167;01mOSError\u001b[39;00m \u001b[38;5;28;01mas\u001b[39;00m e:\n\u001b[0;32m     83\u001b[0m     \u001b[38;5;28;01mif\u001b[39;00m e\u001b[38;5;241m.\u001b[39merrno \u001b[38;5;241m==\u001b[39m errno\u001b[38;5;241m.\u001b[39mENOENT:\n\u001b[1;32m---> 84\u001b[0m         \u001b[38;5;28;01mraise\u001b[39;00m ExecutableNotFound(cmd) \u001b[38;5;28;01mfrom\u001b[39;00m \u001b[38;5;21;01me\u001b[39;00m\n\u001b[0;32m     85\u001b[0m     \u001b[38;5;28;01mraise\u001b[39;00m\n\u001b[0;32m     87\u001b[0m \u001b[38;5;28;01mif\u001b[39;00m \u001b[38;5;129;01mnot\u001b[39;00m quiet \u001b[38;5;129;01mand\u001b[39;00m proc\u001b[38;5;241m.\u001b[39mstderr:\n",
            "\u001b[1;31mExecutableNotFound\u001b[0m: failed to execute WindowsPath('dot'), make sure the Graphviz executables are on your systems' PATH"
          ]
        }
      ],
      "source": [
        "#GLR65\n",
        "from graphviz import Digraph\n",
        "import numbers\n",
        "\n",
        "# Define functions for node and edge creation\n",
        "def unbiasedNode(id, label=None, output=None, style=None):\n",
        "    label = label or f'N{id}'\n",
        "    common = style or 'shape=record, style=rounded, color=gray26'\n",
        "    if output is None:\n",
        "        return f'{id} [ label=\"{label}\", fontsize=11, {common} ];'\n",
        "    return f'{id} [ label=\"{{ {label} | {output:.2f} }}\", fontsize=11, {common} ];'\n",
        "\n",
        "def biasedNode(id, bias, label=None, output=None):\n",
        "    label = label or f'N{id}'\n",
        "    if isinstance(bias, numbers.Number):\n",
        "        bias = f'{bias:.3f}'\n",
        "    if isinstance(output, numbers.Number):\n",
        "        output = f'{output:.3f}'\n",
        "    common = 'shape=record, style=rounded, fontsize=11, color=gray26'\n",
        "    if output is None:\n",
        "        return f'{id} [ label=\"{label}\\\\n{bias}\", {common} ];'\n",
        "    return f'{id} [ label=\"{{ {label}\\\\n{bias} | {output} }}\", {common} ];'\n",
        "\n",
        "def edge(n1, n2, weight=None):\n",
        "    if weight is None:\n",
        "        return f'{n1} -> {n2} [ label=\"w{n1}{n2}\" ];'\n",
        "    return f'{n1} -> {n2} [ label=\"{weight:.3f}\" ];'\n",
        "\n",
        "# Common settings\n",
        "commonSettings = \"\"\"\n",
        "edge [ fontsize=11, color=gray55 ];\n",
        "rankdir=LR;\n",
        "graph [ranksep=\"0.8\"];\n",
        "\"\"\"\n",
        "\n",
        "# Define the graph\n",
        "s = f\"\"\"\n",
        "digraph ethane {{\n",
        "{ commonSettings }\n",
        "{ unbiasedNode('Salt', label='Salt', style='color=white') }\n",
        "{ unbiasedNode('Fat', label='Fat', style='color=white') }\n",
        "{ unbiasedNode(2, output=0.9) }\n",
        "{ unbiasedNode(1, output=0.2) }\n",
        "{ biasedNode(4, 0.02, output=0.51224755)}\n",
        "{ biasedNode(3, -0.3, output=0.42580196)}\n",
        "{ biasedNode(5, 0.05, output=0.520238936)}\n",
        "{ biasedNode(6, -0.015, output=0.505668252)}\n",
        "{ unbiasedNode('like', label='like', style='color=white') }\n",
        "Salt -> 2;\n",
        "Fat -> 1;\n",
        "{ edge(1, 3, 0.05) }\n",
        "{ edge(2, 3, 0.01) }\n",
        "{ edge(1, 4, -0.01) }\n",
        "{ edge(2, 4, 0.03) }\n",
        "{ edge(1, 5, 0.2) }\n",
        "{ edge(2, 5, -0.01) }\n",
        "{ edge(3, 6, 0.01) }\n",
        "{ edge(4, 6, 0.05) }\n",
        "{ edge(5, 6, 0.015) }\n",
        "6 -> like\n",
        "}}\n",
        "\"\"\"\n",
        "\n",
        "# Render the graph\n",
        "#dot = Digraph(executable=r\"c:\\users\\gr0386\\appdata\\roaming\\python\\python311\\site-packages (0.20.1)\")\n",
        "dot = Digraph()\n",
        "\n",
        "dot.attr('graph', rankdir='LR', ranksep='0.8')\n",
        "dot.node('Salt', label='Salt', style='filled', color='white')\n",
        "dot.node('Fat', label='Fat', style='filled', color='white')\n",
        "dot.node('2', label='N2\\\\n0.90', shape='record', style='rounded, color=gray26')\n",
        "dot.node('1', label='N1\\\\n0.20', shape='record', style='rounded, color=gray26')\n",
        "dot.node('4', label='N4\\\\n0.020', shape='record', style='rounded, color=gray26')\n",
        "dot.node('3', label='N3\\\\n-0.300', shape='record', style='rounded, color=gray26')\n",
        "dot.node('5', label='N5\\\\n0.050', shape='record', style='rounded, color=gray26')\n",
        "dot.node('6', label='N6\\\\n-0.015', shape='record', style='rounded, color=gray26')\n",
        "dot.node('like', label='like', style='filled', color='white')\n",
        "dot.edge('Salt', '2')\n",
        "dot.edge('Fat', '1')\n",
        "dot.edge('1', '3', label='0.050')\n",
        "dot.edge('2', '3', label='0.010')\n",
        "dot.edge('1', '4', label='-0.010')\n",
        "dot.edge('2', '4', label='0.030')\n",
        "dot.edge('1', '5', label='0.200')\n",
        "dot.edge('2', '5', label='-0.010')\n",
        "dot.edge('3', '6', label='0.010')\n",
        "dot.edge('4', '6', label='0.050')\n",
        "dot.edge('5', '6', label='0.015')\n",
        "dot.edge('6', 'like')\n",
        "dot.render('ethane', format='png', cleanup=True)\n"
      ]
    },
    {
      "cell_type": "code",
      "execution_count": null,
      "metadata": {
        "colab": {
          "base_uri": "https://localhost:8080/",
          "height": 253
        },
        "id": "mRrBLjVD6Riw",
        "outputId": "f5db7b49-15b2-45e5-ee16-756bc2fcc0d8"
      },
      "outputs": [
        {
          "ename": "NameError",
          "evalue": "name 'commonSettings' is not defined",
          "output_type": "error",
          "traceback": [
            "\u001b[1;31m---------------------------------------------------------------------------\u001b[0m",
            "\u001b[1;31mNameError\u001b[0m                                 Traceback (most recent call last)",
            "Cell \u001b[1;32mIn[2], line 4\u001b[0m\n\u001b[0;32m      1\u001b[0m \u001b[38;5;66;03m# Optimized network\u001b[39;00m\n\u001b[0;32m      2\u001b[0m s \u001b[38;5;241m=\u001b[39m \u001b[38;5;124mf\u001b[39m\u001b[38;5;124m\"\"\"\u001b[39m\n\u001b[0;32m      3\u001b[0m \u001b[38;5;124mdigraph ethane \u001b[39m\u001b[38;5;130;01m{{\u001b[39;00m\n\u001b[1;32m----> 4\u001b[0m \u001b[38;5;132;01m{\u001b[39;00m\u001b[38;5;250m \u001b[39mcommonSettings\u001b[38;5;250m \u001b[39m\u001b[38;5;132;01m}\u001b[39;00m\n\u001b[0;32m      5\u001b[0m \u001b[38;5;132;01m{\u001b[39;00m\u001b[38;5;250m \u001b[39munbiasedNode(\u001b[38;5;124m'\u001b[39m\u001b[38;5;124mSalt\u001b[39m\u001b[38;5;124m'\u001b[39m,\u001b[38;5;250m \u001b[39mlabel\u001b[38;5;241m=\u001b[39m\u001b[38;5;124m'\u001b[39m\u001b[38;5;124mSalt\u001b[39m\u001b[38;5;124m'\u001b[39m,\u001b[38;5;250m \u001b[39mstyle\u001b[38;5;241m=\u001b[39m\u001b[38;5;124m'\u001b[39m\u001b[38;5;124mcolor=white\u001b[39m\u001b[38;5;124m'\u001b[39m)\u001b[38;5;250m \u001b[39m\u001b[38;5;132;01m}\u001b[39;00m\n\u001b[0;32m      6\u001b[0m \u001b[38;5;132;01m{\u001b[39;00m\u001b[38;5;250m \u001b[39munbiasedNode(\u001b[38;5;124m'\u001b[39m\u001b[38;5;124mFat\u001b[39m\u001b[38;5;124m'\u001b[39m,\u001b[38;5;250m \u001b[39mlabel\u001b[38;5;241m=\u001b[39m\u001b[38;5;124m'\u001b[39m\u001b[38;5;124mFat\u001b[39m\u001b[38;5;124m'\u001b[39m,\u001b[38;5;250m \u001b[39mstyle\u001b[38;5;241m=\u001b[39m\u001b[38;5;124m'\u001b[39m\u001b[38;5;124mcolor=white\u001b[39m\u001b[38;5;124m'\u001b[39m)\u001b[38;5;250m \u001b[39m\u001b[38;5;132;01m}\u001b[39;00m\n\u001b[0;32m      7\u001b[0m \u001b[38;5;132;01m{\u001b[39;00m\u001b[38;5;250m \u001b[39munbiasedNode(\u001b[38;5;241m2\u001b[39m,\u001b[38;5;250m \u001b[39moutput\u001b[38;5;241m=\u001b[39m\u001b[38;5;241m0.9\u001b[39m)\u001b[38;5;250m \u001b[39m\u001b[38;5;132;01m}\u001b[39;00m\n\u001b[0;32m      8\u001b[0m \u001b[38;5;132;01m{\u001b[39;00m\u001b[38;5;250m \u001b[39munbiasedNode(\u001b[38;5;241m1\u001b[39m,\u001b[38;5;250m \u001b[39moutput\u001b[38;5;241m=\u001b[39m\u001b[38;5;241m0.2\u001b[39m)\u001b[38;5;250m \u001b[39m\u001b[38;5;132;01m}\u001b[39;00m\n\u001b[0;32m      9\u001b[0m \u001b[38;5;132;01m{\u001b[39;00m\u001b[38;5;250m \u001b[39mbiasedNode(\u001b[38;5;241m4\u001b[39m,\u001b[38;5;250m \u001b[39m\u001b[38;5;241m4.07247552\u001b[39m,\u001b[38;5;250m \u001b[39moutput\u001b[38;5;241m=\u001b[39m\u001b[38;5;241m0.232750971\u001b[39m)\u001b[38;5;132;01m}\u001b[39;00m\n\u001b[0;32m     10\u001b[0m \u001b[38;5;132;01m{\u001b[39;00m\u001b[38;5;250m \u001b[39mbiasedNode(\u001b[38;5;241m3\u001b[39m,\u001b[38;5;250m \u001b[39m\u001b[38;5;241m0.13368045\u001b[39m,\u001b[38;5;250m \u001b[39moutput\u001b[38;5;241m=\u001b[39m\u001b[38;5;241m0.458287289\u001b[39m)\u001b[38;5;132;01m}\u001b[39;00m\n\u001b[0;32m     11\u001b[0m \u001b[38;5;132;01m{\u001b[39;00m\u001b[38;5;250m \u001b[39mbiasedNode(\u001b[38;5;241m5\u001b[39m,\u001b[38;5;250m \u001b[39m\u001b[38;5;241m7.00768104\u001b[39m,\u001b[38;5;250m \u001b[39moutput\u001b[38;5;241m=\u001b[39m\u001b[38;5;241m0.253183219\u001b[39m)\u001b[38;5;132;01m}\u001b[39;00m\n\u001b[0;32m     12\u001b[0m \u001b[38;5;132;01m{\u001b[39;00m\u001b[38;5;250m \u001b[39mbiasedNode(\u001b[38;5;241m6\u001b[39m,\u001b[38;5;250m \u001b[39m\u001b[38;5;241m14.30748676\u001b[39m,\u001b[38;5;250m \u001b[39moutput\u001b[38;5;241m=\u001b[39m\u001b[38;5;241m0.99950954\u001b[39m)\u001b[38;5;132;01m}\u001b[39;00m\n\u001b[0;32m     13\u001b[0m \u001b[38;5;132;01m{\u001b[39;00m\u001b[38;5;250m \u001b[39munbiasedNode(\u001b[38;5;124m'\u001b[39m\u001b[38;5;124mlike\u001b[39m\u001b[38;5;124m'\u001b[39m,\u001b[38;5;250m \u001b[39mlabel\u001b[38;5;241m=\u001b[39m\u001b[38;5;124m'\u001b[39m\u001b[38;5;124mlike\u001b[39m\u001b[38;5;124m'\u001b[39m,\u001b[38;5;250m \u001b[39mstyle\u001b[38;5;241m=\u001b[39m\u001b[38;5;124m'\u001b[39m\u001b[38;5;124mcolor=white\u001b[39m\u001b[38;5;124m'\u001b[39m)\u001b[38;5;250m \u001b[39m\u001b[38;5;132;01m}\u001b[39;00m\n\u001b[0;32m     14\u001b[0m \u001b[38;5;124mSalt -> 2;\u001b[39m\n\u001b[0;32m     15\u001b[0m \u001b[38;5;124mFat -> 1;\u001b[39m\n\u001b[0;32m     16\u001b[0m \u001b[38;5;132;01m{\u001b[39;00m\u001b[38;5;250m \u001b[39medge(\u001b[38;5;241m1\u001b[39m,\u001b[38;5;250m \u001b[39m\u001b[38;5;241m3\u001b[39m,\u001b[38;5;250m \u001b[39m\u001b[38;5;241m-\u001b[39m\u001b[38;5;241m1.30656481\u001b[39m)\u001b[38;5;250m \u001b[39m\u001b[38;5;132;01m}\u001b[39;00m\n\u001b[0;32m     17\u001b[0m \u001b[38;5;132;01m{\u001b[39;00m\u001b[38;5;250m \u001b[39medge(\u001b[38;5;241m2\u001b[39m,\u001b[38;5;250m \u001b[39m\u001b[38;5;241m3\u001b[39m,\u001b[38;5;250m \u001b[39m\u001b[38;5;241m-\u001b[39m\u001b[38;5;241m0.04399727\u001b[39m)\u001b[38;5;250m \u001b[39m\u001b[38;5;132;01m}\u001b[39;00m\n\u001b[0;32m     18\u001b[0m \u001b[38;5;132;01m{\u001b[39;00m\u001b[38;5;250m \u001b[39medge(\u001b[38;5;241m1\u001b[39m,\u001b[38;5;250m \u001b[39m\u001b[38;5;241m4\u001b[39m,\u001b[38;5;250m \u001b[39m\u001b[38;5;241m-\u001b[39m\u001b[38;5;241m4.20427792\u001b[39m)\u001b[38;5;250m \u001b[39m\u001b[38;5;132;01m}\u001b[39;00m\n\u001b[0;32m     19\u001b[0m \u001b[38;5;132;01m{\u001b[39;00m\u001b[38;5;250m \u001b[39medge(\u001b[38;5;241m2\u001b[39m,\u001b[38;5;250m \u001b[39m\u001b[38;5;241m4\u001b[39m,\u001b[38;5;250m \u001b[39m\u001b[38;5;241m-\u001b[39m\u001b[38;5;241m4.91606924\u001b[39m)\u001b[38;5;250m \u001b[39m\u001b[38;5;132;01m}\u001b[39;00m\n\u001b[0;32m     20\u001b[0m \u001b[38;5;132;01m{\u001b[39;00m\u001b[38;5;250m \u001b[39medge(\u001b[38;5;241m1\u001b[39m,\u001b[38;5;250m \u001b[39m\u001b[38;5;241m5\u001b[39m,\u001b[38;5;250m \u001b[39m\u001b[38;5;241m-\u001b[39m\u001b[38;5;241m13.29587332\u001b[39m)\u001b[38;5;250m \u001b[39m\u001b[38;5;132;01m}\u001b[39;00m\n\u001b[0;32m     21\u001b[0m \u001b[38;5;132;01m{\u001b[39;00m\u001b[38;5;250m \u001b[39medge(\u001b[38;5;241m2\u001b[39m,\u001b[38;5;250m \u001b[39m\u001b[38;5;241m5\u001b[39m,\u001b[38;5;250m \u001b[39m\u001b[38;5;241m-\u001b[39m\u001b[38;5;241m6.03356987\u001b[39m)\u001b[38;5;250m \u001b[39m\u001b[38;5;132;01m}\u001b[39;00m\n\u001b[0;32m     22\u001b[0m \u001b[38;5;132;01m{\u001b[39;00m\u001b[38;5;250m \u001b[39medge(\u001b[38;5;241m3\u001b[39m,\u001b[38;5;250m \u001b[39m\u001b[38;5;241m6\u001b[39m,\u001b[38;5;250m \u001b[39m\u001b[38;5;241m-\u001b[39m\u001b[38;5;241m0.27348313\u001b[39m)\u001b[38;5;250m \u001b[39m\u001b[38;5;132;01m}\u001b[39;00m\n\u001b[0;32m     23\u001b[0m \u001b[38;5;132;01m{\u001b[39;00m\u001b[38;5;250m \u001b[39medge(\u001b[38;5;241m4\u001b[39m,\u001b[38;5;250m \u001b[39m\u001b[38;5;241m6\u001b[39m,\u001b[38;5;250m \u001b[39m\u001b[38;5;241m-\u001b[39m\u001b[38;5;241m9.01211573\u001b[39m)\u001b[38;5;250m \u001b[39m\u001b[38;5;132;01m}\u001b[39;00m\n\u001b[0;32m     24\u001b[0m \u001b[38;5;132;01m{\u001b[39;00m\u001b[38;5;250m \u001b[39medge(\u001b[38;5;241m5\u001b[39m,\u001b[38;5;250m \u001b[39m\u001b[38;5;241m6\u001b[39m,\u001b[38;5;250m \u001b[39m\u001b[38;5;241m-\u001b[39m\u001b[38;5;241m17.63504694\u001b[39m)\u001b[38;5;250m \u001b[39m\u001b[38;5;132;01m}\u001b[39;00m\n\u001b[0;32m     25\u001b[0m \u001b[38;5;124m6 -> like\u001b[39m\n\u001b[0;32m     26\u001b[0m \u001b[38;5;130;01m}}\u001b[39;00m\n\u001b[0;32m     27\u001b[0m \u001b[38;5;124m \u001b[39m\u001b[38;5;124m\"\"\"\u001b[39m\n\u001b[0;32m     28\u001b[0m layoutGraph(s)\n",
            "\u001b[1;31mNameError\u001b[0m: name 'commonSettings' is not defined"
          ]
        }
      ],
      "source": [
        "# Optimized network\n",
        "s = f\"\"\"\n",
        "digraph ethane {{\n",
        "{ commonSettings }\n",
        "{ unbiasedNode('Salt', label='Salt', style='color=white') }\n",
        "{ unbiasedNode('Fat', label='Fat', style='color=white') }\n",
        "{ unbiasedNode(2, output=0.9) }\n",
        "{ unbiasedNode(1, output=0.2) }\n",
        "{ biasedNode(4, 4.07247552, output=0.232750971)}\n",
        "{ biasedNode(3, 0.13368045, output=0.458287289)}\n",
        "{ biasedNode(5, 7.00768104, output=0.253183219)}\n",
        "{ biasedNode(6, 14.30748676, output=0.99950954)}\n",
        "{ unbiasedNode('like', label='like', style='color=white') }\n",
        "Salt -> 2;\n",
        "Fat -> 1;\n",
        "{ edge(1, 3, -1.30656481) }\n",
        "{ edge(2, 3, -0.04399727) }\n",
        "{ edge(1, 4, -4.20427792) }\n",
        "{ edge(2, 4, -4.91606924) }\n",
        "{ edge(1, 5, -13.29587332) }\n",
        "{ edge(2, 5, -6.03356987) }\n",
        "{ edge(3, 6, -0.27348313) }\n",
        "{ edge(4, 6, -9.01211573) }\n",
        "{ edge(5, 6, -17.63504694) }\n",
        "6 -> like\n",
        "}}\n",
        " \"\"\"\n",
        "layoutGraph(s)"
      ]
    },
    {
      "cell_type": "code",
      "execution_count": null,
      "metadata": {
        "colab": {
          "base_uri": "https://localhost:8080/",
          "height": 256
        },
        "id": "uTY5fPdL6Riw",
        "outputId": "39ba5a08-be78-420d-d05d-2d0ae95eed6f"
      },
      "outputs": [
        {
          "data": {
            "image/svg+xml": [
              "<?xml version=\"1.0\" encoding=\"UTF-8\" standalone=\"no\"?>\n",
              "<!DOCTYPE svg PUBLIC \"-//W3C//DTD SVG 1.1//EN\"\n",
              " \"http://www.w3.org/Graphics/SVG/1.1/DTD/svg11.dtd\">\n",
              "<!-- Generated by graphviz version 2.43.0 (0)\n",
              " -->\n",
              "<!-- Title: ethane Pages: 1 -->\n",
              "<svg width=\"580pt\" height=\"176pt\"\n",
              " viewBox=\"0.00 0.00 580.00 176.02\" xmlns=\"http://www.w3.org/2000/svg\" xmlns:xlink=\"http://www.w3.org/1999/xlink\">\n",
              "<g id=\"graph0\" class=\"graph\" transform=\"scale(1 1) rotate(0) translate(4 172.02)\">\n",
              "<title>ethane</title>\n",
              "<polygon fill=\"white\" stroke=\"transparent\" points=\"-4,4 -4,-172.02 576,-172.02 576,4 -4,4\"/>\n",
              "<!-- Salt -->\n",
              "<g id=\"node1\" class=\"node\">\n",
              "<title>Salt</title>\n",
              "<ellipse fill=\"none\" stroke=\"white\" cx=\"27\" cy=\"-37.02\" rx=\"27\" ry=\"18\"/>\n",
              "<text text-anchor=\"middle\" x=\"27\" y=\"-34.22\" font-family=\"Times,serif\" font-size=\"11.00\">Salt</text>\n",
              "</g>\n",
              "<!-- 2 -->\n",
              "<g id=\"node3\" class=\"node\">\n",
              "<title>2</title>\n",
              "<path fill=\"none\" stroke=\"#424242\" d=\"M125,-19.02C125,-19.02 155,-19.02 155,-19.02 161,-19.02 167,-25.02 167,-31.02 167,-31.02 167,-43.02 167,-43.02 167,-49.02 161,-55.02 155,-55.02 155,-55.02 125,-55.02 125,-55.02 119,-55.02 113,-49.02 113,-43.02 113,-43.02 113,-31.02 113,-31.02 113,-25.02 119,-19.02 125,-19.02\"/>\n",
              "<text text-anchor=\"middle\" x=\"140\" y=\"-34.22\" font-family=\"Times,serif\" font-size=\"11.00\">N2</text>\n",
              "</g>\n",
              "<!-- Salt&#45;&gt;2 -->\n",
              "<g id=\"edge1\" class=\"edge\">\n",
              "<title>Salt&#45;&gt;2</title>\n",
              "<path fill=\"none\" stroke=\"#8c8c8c\" d=\"M54.02,-37.02C68.53,-37.02 86.83,-37.02 102.72,-37.02\"/>\n",
              "<polygon fill=\"#8c8c8c\" stroke=\"#8c8c8c\" points=\"102.75,-40.52 112.75,-37.02 102.75,-33.52 102.75,-40.52\"/>\n",
              "</g>\n",
              "<!-- Fat -->\n",
              "<g id=\"node2\" class=\"node\">\n",
              "<title>Fat</title>\n",
              "<ellipse fill=\"none\" stroke=\"white\" cx=\"27\" cy=\"-142.02\" rx=\"27\" ry=\"18\"/>\n",
              "<text text-anchor=\"middle\" x=\"27\" y=\"-139.22\" font-family=\"Times,serif\" font-size=\"11.00\">Fat</text>\n",
              "</g>\n",
              "<!-- 1 -->\n",
              "<g id=\"node4\" class=\"node\">\n",
              "<title>1</title>\n",
              "<path fill=\"none\" stroke=\"#424242\" d=\"M125,-124.02C125,-124.02 155,-124.02 155,-124.02 161,-124.02 167,-130.02 167,-136.02 167,-136.02 167,-148.02 167,-148.02 167,-154.02 161,-160.02 155,-160.02 155,-160.02 125,-160.02 125,-160.02 119,-160.02 113,-154.02 113,-148.02 113,-148.02 113,-136.02 113,-136.02 113,-130.02 119,-124.02 125,-124.02\"/>\n",
              "<text text-anchor=\"middle\" x=\"140\" y=\"-139.22\" font-family=\"Times,serif\" font-size=\"11.00\">N1</text>\n",
              "</g>\n",
              "<!-- Fat&#45;&gt;1 -->\n",
              "<g id=\"edge2\" class=\"edge\">\n",
              "<title>Fat&#45;&gt;1</title>\n",
              "<path fill=\"none\" stroke=\"#8c8c8c\" d=\"M54.02,-142.02C68.53,-142.02 86.83,-142.02 102.72,-142.02\"/>\n",
              "<polygon fill=\"#8c8c8c\" stroke=\"#8c8c8c\" points=\"102.75,-145.52 112.75,-142.02 102.75,-138.52 102.75,-145.52\"/>\n",
              "</g>\n",
              "<!-- 4 -->\n",
              "<g id=\"node5\" class=\"node\">\n",
              "<title>4</title>\n",
              "<path fill=\"none\" stroke=\"#424242\" d=\"M271,-71.02C271,-71.02 301,-71.02 301,-71.02 307,-71.02 313,-77.02 313,-83.02 313,-83.02 313,-95.02 313,-95.02 313,-101.02 307,-107.02 301,-107.02 301,-107.02 271,-107.02 271,-107.02 265,-107.02 259,-101.02 259,-95.02 259,-95.02 259,-83.02 259,-83.02 259,-77.02 265,-71.02 271,-71.02\"/>\n",
              "<text text-anchor=\"middle\" x=\"286\" y=\"-92.22\" font-family=\"Times,serif\" font-size=\"11.00\">N4</text>\n",
              "<text text-anchor=\"middle\" x=\"286\" y=\"-80.22\" font-family=\"Times,serif\" font-size=\"11.00\">4.072</text>\n",
              "</g>\n",
              "<!-- 2&#45;&gt;4 -->\n",
              "<g id=\"edge6\" class=\"edge\">\n",
              "<title>2&#45;&gt;4</title>\n",
              "<path fill=\"none\" stroke=\"#8c8c8c\" d=\"M167.28,-32.47C185.53,-30.46 210.05,-30.07 230,-38.02 237.24,-40.91 249.75,-52.26 261,-63.52\"/>\n",
              "<polygon fill=\"#8c8c8c\" stroke=\"#8c8c8c\" points=\"258.65,-66.12 268.15,-70.82 263.65,-61.23 258.65,-66.12\"/>\n",
              "<text text-anchor=\"middle\" x=\"213\" y=\"-41.22\" font-family=\"Times,serif\" font-size=\"11.00\">&#45;4.916</text>\n",
              "</g>\n",
              "<!-- 3 -->\n",
              "<g id=\"node6\" class=\"node\">\n",
              "<title>3</title>\n",
              "<path fill=\"none\" stroke=\"#424242\" d=\"M271,-126.02C271,-126.02 301,-126.02 301,-126.02 307,-126.02 313,-132.02 313,-138.02 313,-138.02 313,-150.02 313,-150.02 313,-156.02 307,-162.02 301,-162.02 301,-162.02 271,-162.02 271,-162.02 265,-162.02 259,-156.02 259,-150.02 259,-150.02 259,-138.02 259,-138.02 259,-132.02 265,-126.02 271,-126.02\"/>\n",
              "<text text-anchor=\"middle\" x=\"286\" y=\"-147.22\" font-family=\"Times,serif\" font-size=\"11.00\">N3</text>\n",
              "<text text-anchor=\"middle\" x=\"286\" y=\"-135.22\" font-family=\"Times,serif\" font-size=\"11.00\">0.134</text>\n",
              "</g>\n",
              "<!-- 2&#45;&gt;3 -->\n",
              "<g id=\"edge4\" class=\"edge\">\n",
              "<title>2&#45;&gt;3</title>\n",
              "<path fill=\"none\" stroke=\"#8c8c8c\" d=\"M159.87,-55.05C170.16,-64.47 183.35,-75.91 196,-85.02 210.22,-95.28 215.28,-95.5 230,-105.02 237.28,-109.73 244.94,-114.98 252.17,-120.06\"/>\n",
              "<polygon fill=\"#8c8c8c\" stroke=\"#8c8c8c\" points=\"250.21,-122.96 260.39,-125.9 254.27,-117.26 250.21,-122.96\"/>\n",
              "<text text-anchor=\"middle\" x=\"213\" y=\"-108.22\" font-family=\"Times,serif\" font-size=\"11.00\">&#45;0.044</text>\n",
              "</g>\n",
              "<!-- 5 -->\n",
              "<g id=\"node7\" class=\"node\">\n",
              "<title>5</title>\n",
              "<path fill=\"none\" stroke=\"#424242\" d=\"M271,-16.02C271,-16.02 301,-16.02 301,-16.02 307,-16.02 313,-22.02 313,-28.02 313,-28.02 313,-40.02 313,-40.02 313,-46.02 307,-52.02 301,-52.02 301,-52.02 271,-52.02 271,-52.02 265,-52.02 259,-46.02 259,-40.02 259,-40.02 259,-28.02 259,-28.02 259,-22.02 265,-16.02 271,-16.02\"/>\n",
              "<text text-anchor=\"middle\" x=\"286\" y=\"-37.22\" font-family=\"Times,serif\" font-size=\"11.00\">N5</text>\n",
              "<text text-anchor=\"middle\" x=\"286\" y=\"-25.22\" font-family=\"Times,serif\" font-size=\"11.00\">7.008</text>\n",
              "</g>\n",
              "<!-- 2&#45;&gt;5 -->\n",
              "<g id=\"edge8\" class=\"edge\">\n",
              "<title>2&#45;&gt;5</title>\n",
              "<path fill=\"none\" stroke=\"#8c8c8c\" d=\"M164,-18.85C173.37,-12.54 184.66,-6.25 196,-3.02 210.54,1.11 215.38,0.81 230,-3.02 236.84,-4.82 243.72,-7.68 250.19,-10.95\"/>\n",
              "<polygon fill=\"#8c8c8c\" stroke=\"#8c8c8c\" points=\"248.88,-14.22 259.33,-15.96 252.25,-8.08 248.88,-14.22\"/>\n",
              "<text text-anchor=\"middle\" x=\"213\" y=\"-6.22\" font-family=\"Times,serif\" font-size=\"11.00\">&#45;6.034</text>\n",
              "</g>\n",
              "<!-- 1&#45;&gt;4 -->\n",
              "<g id=\"edge5\" class=\"edge\">\n",
              "<title>1&#45;&gt;4</title>\n",
              "<path fill=\"none\" stroke=\"#8c8c8c\" d=\"M167.28,-137.47C185.32,-133.89 209.58,-128.13 230,-120.02 236.57,-117.42 243.32,-114.15 249.75,-110.73\"/>\n",
              "<polygon fill=\"#8c8c8c\" stroke=\"#8c8c8c\" points=\"251.82,-113.58 258.86,-105.67 248.42,-107.47 251.82,-113.58\"/>\n",
              "<text text-anchor=\"middle\" x=\"213\" y=\"-133.22\" font-family=\"Times,serif\" font-size=\"11.00\">&#45;4.204</text>\n",
              "</g>\n",
              "<!-- 1&#45;&gt;3 -->\n",
              "<g id=\"edge3\" class=\"edge\">\n",
              "<title>1&#45;&gt;3</title>\n",
              "<path fill=\"none\" stroke=\"#8c8c8c\" d=\"M167.08,-149.49C176.15,-151.74 186.45,-153.91 196,-155.02 211.01,-156.77 214.96,-156.51 230,-155.02 236.08,-154.42 242.49,-153.45 248.7,-152.33\"/>\n",
              "<polygon fill=\"#8c8c8c\" stroke=\"#8c8c8c\" points=\"249.72,-155.7 258.86,-150.35 248.38,-148.83 249.72,-155.7\"/>\n",
              "<text text-anchor=\"middle\" x=\"213\" y=\"-159.22\" font-family=\"Times,serif\" font-size=\"11.00\">&#45;1.307</text>\n",
              "</g>\n",
              "<!-- 1&#45;&gt;5 -->\n",
              "<g id=\"edge7\" class=\"edge\">\n",
              "<title>1&#45;&gt;5</title>\n",
              "<path fill=\"none\" stroke=\"#8c8c8c\" d=\"M151.06,-123.84C160.75,-107.78 176.74,-84.71 196,-70.02 211.73,-58.03 232.01,-49.42 249.24,-43.63\"/>\n",
              "<polygon fill=\"#8c8c8c\" stroke=\"#8c8c8c\" points=\"250.49,-46.9 258.97,-40.55 248.38,-40.23 250.49,-46.9\"/>\n",
              "<text text-anchor=\"middle\" x=\"213\" y=\"-73.22\" font-family=\"Times,serif\" font-size=\"11.00\">&#45;13.296</text>\n",
              "</g>\n",
              "<!-- 6 -->\n",
              "<g id=\"node8\" class=\"node\">\n",
              "<title>6</title>\n",
              "<path fill=\"none\" stroke=\"#424242\" d=\"M417,-71.02C417,-71.02 447,-71.02 447,-71.02 453,-71.02 459,-77.02 459,-83.02 459,-83.02 459,-95.02 459,-95.02 459,-101.02 453,-107.02 447,-107.02 447,-107.02 417,-107.02 417,-107.02 411,-107.02 405,-101.02 405,-95.02 405,-95.02 405,-83.02 405,-83.02 405,-77.02 411,-71.02 417,-71.02\"/>\n",
              "<text text-anchor=\"middle\" x=\"432\" y=\"-92.22\" font-family=\"Times,serif\" font-size=\"11.00\">N6</text>\n",
              "<text text-anchor=\"middle\" x=\"432\" y=\"-80.22\" font-family=\"Times,serif\" font-size=\"11.00\">14.307</text>\n",
              "</g>\n",
              "<!-- 4&#45;&gt;6 -->\n",
              "<g id=\"edge10\" class=\"edge\">\n",
              "<title>4&#45;&gt;6</title>\n",
              "<path fill=\"none\" stroke=\"#8c8c8c\" d=\"M313.08,-89.02C335.87,-89.02 369.21,-89.02 394.62,-89.02\"/>\n",
              "<polygon fill=\"#8c8c8c\" stroke=\"#8c8c8c\" points=\"394.63,-92.52 404.63,-89.02 394.63,-85.52 394.63,-92.52\"/>\n",
              "<text text-anchor=\"middle\" x=\"359\" y=\"-92.22\" font-family=\"Times,serif\" font-size=\"11.00\">&#45;9.012</text>\n",
              "</g>\n",
              "<!-- 3&#45;&gt;6 -->\n",
              "<g id=\"edge9\" class=\"edge\">\n",
              "<title>3&#45;&gt;6</title>\n",
              "<path fill=\"none\" stroke=\"#8c8c8c\" d=\"M313.08,-134.06C335.97,-125.32 369.5,-112.51 394.96,-102.79\"/>\n",
              "<polygon fill=\"#8c8c8c\" stroke=\"#8c8c8c\" points=\"396.54,-105.93 404.63,-99.1 394.04,-99.39 396.54,-105.93\"/>\n",
              "<text text-anchor=\"middle\" x=\"359\" y=\"-124.22\" font-family=\"Times,serif\" font-size=\"11.00\">&#45;0.273</text>\n",
              "</g>\n",
              "<!-- 5&#45;&gt;6 -->\n",
              "<g id=\"edge11\" class=\"edge\">\n",
              "<title>5&#45;&gt;6</title>\n",
              "<path fill=\"none\" stroke=\"#8c8c8c\" d=\"M313.08,-43.98C335.97,-52.73 369.5,-65.54 394.96,-75.26\"/>\n",
              "<polygon fill=\"#8c8c8c\" stroke=\"#8c8c8c\" points=\"394.04,-78.65 404.63,-78.95 396.54,-72.11 394.04,-78.65\"/>\n",
              "<text text-anchor=\"middle\" x=\"359\" y=\"-70.22\" font-family=\"Times,serif\" font-size=\"11.00\">&#45;17.635</text>\n",
              "</g>\n",
              "<!-- like -->\n",
              "<g id=\"node9\" class=\"node\">\n",
              "<title>like</title>\n",
              "<ellipse fill=\"none\" stroke=\"white\" cx=\"545\" cy=\"-89.02\" rx=\"27\" ry=\"18\"/>\n",
              "<text text-anchor=\"middle\" x=\"545\" y=\"-86.22\" font-family=\"Times,serif\" font-size=\"11.00\">like</text>\n",
              "</g>\n",
              "<!-- 6&#45;&gt;like -->\n",
              "<g id=\"edge12\" class=\"edge\">\n",
              "<title>6&#45;&gt;like</title>\n",
              "<path fill=\"none\" stroke=\"#8c8c8c\" d=\"M459.02,-89.02C473.53,-89.02 491.83,-89.02 507.72,-89.02\"/>\n",
              "<polygon fill=\"#8c8c8c\" stroke=\"#8c8c8c\" points=\"507.75,-92.52 517.75,-89.02 507.75,-85.52 507.75,-92.52\"/>\n",
              "</g>\n",
              "</g>\n",
              "</svg>\n"
            ],
            "text/plain": [
              "<graphviz.sources.Source at 0x7e7ea8b41f90>"
            ]
          },
          "execution_count": 16,
          "metadata": {},
          "output_type": "execute_result"
        }
      ],
      "source": [
        "#GLR65\n",
        "# Optimized network\n",
        "s = f\"\"\"\n",
        "digraph ethane {{\n",
        "{ commonSettings }\n",
        "{ unbiasedNode('Salt', label='Salt', style='color=white') }\n",
        "{ unbiasedNode('Fat', label='Fat', style='color=white') }\n",
        "{ unbiasedNode(2) }\n",
        "{ unbiasedNode(1) }\n",
        "{ biasedNode(4, 4.07247552)}\n",
        "{ biasedNode(3, 0.13368045)}\n",
        "{ biasedNode(5, 7.00768104)}\n",
        "{ biasedNode(6, 14.30748676)}\n",
        "{ unbiasedNode('like', label='like', style='color=white') }\n",
        "Salt -> 2;\n",
        "Fat -> 1;\n",
        "{ edge(1, 3, -1.30656481) }\n",
        "{ edge(2, 3, -0.04399727) }\n",
        "{ edge(1, 4, -4.20427792) }\n",
        "{ edge(2, 4, -4.91606924) }\n",
        "{ edge(1, 5, -13.29587332) }\n",
        "{ edge(2, 5, -6.03356987) }\n",
        "{ edge(3, 6, -0.27348313) }\n",
        "{ edge(4, 6, -9.01211573) }\n",
        "{ edge(5, 6, -17.63504694) }\n",
        "6 -> like\n",
        "}}\n",
        " \"\"\"\n",
        "layoutGraph(s)"
      ]
    },
    {
      "cell_type": "code",
      "execution_count": null,
      "metadata": {
        "colab": {
          "base_uri": "https://localhost:8080/",
          "height": 369
        },
        "id": "kvIEpLTB6Riw",
        "outputId": "482ed159-27c4-4d8a-bfb6-24f74d18a09e"
      },
      "outputs": [
        {
          "ename": "NameError",
          "evalue": "name 'graphviz' is not defined",
          "output_type": "error",
          "traceback": [
            "\u001b[1;31m---------------------------------------------------------------------------\u001b[0m",
            "\u001b[1;31mNameError\u001b[0m                                 Traceback (most recent call last)",
            "Cell \u001b[1;32mIn[10], line 32\u001b[0m\n\u001b[0;32m     15\u001b[0m     \u001b[38;5;28;01mreturn\u001b[39;00m \u001b[38;5;124m'\u001b[39m\u001b[38;5;130;01m\\n\u001b[39;00m\u001b[38;5;124m'\u001b[39m\u001b[38;5;241m.\u001b[39mjoin(s)\n\u001b[0;32m     17\u001b[0m s \u001b[38;5;241m=\u001b[39m \u001b[38;5;124mf\u001b[39m\u001b[38;5;124m\"\"\"\u001b[39m\n\u001b[0;32m     18\u001b[0m \u001b[38;5;124mgraph \u001b[39m\u001b[38;5;130;01m{{\u001b[39;00m\n\u001b[0;32m     19\u001b[0m \u001b[38;5;124m    size=\u001b[39m\u001b[38;5;124m\"\u001b[39m\u001b[38;5;124m10,10\u001b[39m\u001b[38;5;124m\"\u001b[39m\n\u001b[1;32m   (...)\u001b[0m\n\u001b[0;32m     30\u001b[0m \u001b[38;5;130;01m}}\u001b[39;00m\n\u001b[0;32m     31\u001b[0m \u001b[38;5;124m\"\"\"\u001b[39m\n\u001b[1;32m---> 32\u001b[0m layoutGraph(s)\n",
            "Cell \u001b[1;32mIn[7], line 3\u001b[0m, in \u001b[0;36mlayoutGraph\u001b[1;34m(dot_data, pdfFile)\u001b[0m\n\u001b[0;32m      2\u001b[0m \u001b[38;5;28;01mdef\u001b[39;00m \u001b[38;5;21mlayoutGraph\u001b[39m(dot_data, pdfFile\u001b[38;5;241m=\u001b[39m\u001b[38;5;28;01mNone\u001b[39;00m):\n\u001b[1;32m----> 3\u001b[0m     graph \u001b[38;5;241m=\u001b[39m graphviz\u001b[38;5;241m.\u001b[39mSource(dot_data)\n\u001b[0;32m      4\u001b[0m     \u001b[38;5;28;01mreturn\u001b[39;00m graph\n",
            "\u001b[1;31mNameError\u001b[0m: name 'graphviz' is not defined"
          ]
        }
      ],
      "source": [
        "#GLR65\n",
        "def node(color):\n",
        "    return f'[label=\"\", shape=\"circle\", color=\"{color}\", fillcolor=\"{color}\", style=\"filled\"]'\n",
        "\n",
        "input = '\\n'.join(f'i{i} {node(\"#A55B60\")}; ' for i in range(4))\n",
        "hidden1 = '\\n'.join(f'h1{i} {node(\"#74BEEB\")}; ' for i in range(3))\n",
        "hidden2 = '\\n'.join(f'h2{i} {node(\"#74BEEB\")}; ' for i in range(3))\n",
        "output = '\\n'.join(f'o{i} {node(\"#3D92A2\")}; ' for i in range(1))\n",
        "\n",
        "def connections(layer1, count1, layer2, count2):\n",
        "    s = []\n",
        "    for i in range(count1):\n",
        "        for j in range(count2):\n",
        "            s.append(f'{layer1}{i} -- {layer2}{j} [color=\"gray55\"];')\n",
        "    return '\\n'.join(s)\n",
        "\n",
        "s = f\"\"\"\n",
        "graph {{\n",
        "    size=\"10,10\"\n",
        "    graph [ranksep=\"1\"];\n",
        "    rankdir=LR;\n",
        "    splines=line;\n",
        "    subgraph cluster_input {{ label=\"Input layer\"; color=\"grey75\"; { input } }}\n",
        "    subgraph cluster_hidden1 {{ label=\"Hidden layer 1\"; color=\"grey75\"; { hidden1 } }}\n",
        "    subgraph cluster_hidden2 {{ label=\"Hidden layer 2\"; color=\"grey75\"; { hidden2 } }}\n",
        "    subgraph cluster_output {{ label=\"Output layer\"; color=\"grey75\"; { output } }}\n",
        "    { connections('i', 4, 'h1', 3)}\n",
        "    { connections('h1', 3, 'h2', 3)}\n",
        "    { connections('h2', 3, 'o', 1)}\n",
        "}}\n",
        "\"\"\"\n",
        "layoutGraph(s)"
      ]
    },
    {
      "cell_type": "code",
      "execution_count": null,
      "metadata": {
        "colab": {
          "base_uri": "https://localhost:8080/",
          "height": 381
        },
        "id": "fz1SmW-u6Riw",
        "outputId": "a28035b6-0a30-4809-a8ce-2d816e1aeec5"
      },
      "outputs": [
        {
          "ename": "NameError",
          "evalue": "name 'graphviz' is not defined",
          "output_type": "error",
          "traceback": [
            "\u001b[1;31m---------------------------------------------------------------------------\u001b[0m",
            "\u001b[1;31mNameError\u001b[0m                                 Traceback (most recent call last)",
            "Cell \u001b[1;32mIn[11], line 25\u001b[0m\n\u001b[0;32m      6\u001b[0m     \u001b[38;5;28;01mreturn\u001b[39;00m \u001b[38;5;124m'\u001b[39m\u001b[38;5;130;01m\\n\u001b[39;00m\u001b[38;5;124m'\u001b[39m\u001b[38;5;241m.\u001b[39mjoin(s)\n\u001b[0;32m      8\u001b[0m s \u001b[38;5;241m=\u001b[39m \u001b[38;5;124mf\u001b[39m\u001b[38;5;124m\"\"\"\u001b[39m\n\u001b[0;32m      9\u001b[0m \u001b[38;5;124mgraph \u001b[39m\u001b[38;5;130;01m{{\u001b[39;00m\n\u001b[0;32m     10\u001b[0m \u001b[38;5;124m    size=\u001b[39m\u001b[38;5;124m\"\u001b[39m\u001b[38;5;124m10,10\u001b[39m\u001b[38;5;124m\"\u001b[39m\n\u001b[1;32m   (...)\u001b[0m\n\u001b[0;32m     23\u001b[0m \u001b[38;5;130;01m}}\u001b[39;00m\n\u001b[0;32m     24\u001b[0m \u001b[38;5;124m\"\"\"\u001b[39m\n\u001b[1;32m---> 25\u001b[0m layoutGraph(s)\n",
            "Cell \u001b[1;32mIn[7], line 3\u001b[0m, in \u001b[0;36mlayoutGraph\u001b[1;34m(dot_data, pdfFile)\u001b[0m\n\u001b[0;32m      2\u001b[0m \u001b[38;5;28;01mdef\u001b[39;00m \u001b[38;5;21mlayoutGraph\u001b[39m(dot_data, pdfFile\u001b[38;5;241m=\u001b[39m\u001b[38;5;28;01mNone\u001b[39;00m):\n\u001b[1;32m----> 3\u001b[0m     graph \u001b[38;5;241m=\u001b[39m graphviz\u001b[38;5;241m.\u001b[39mSource(dot_data)\n\u001b[0;32m      4\u001b[0m     \u001b[38;5;28;01mreturn\u001b[39;00m graph\n",
            "\u001b[1;31mNameError\u001b[0m: name 'graphviz' is not defined"
          ]
        }
      ],
      "source": [
        "#GLR65\n",
        "def addRecurrant(layer, count):\n",
        "    s = []\n",
        "    for i in range(count):\n",
        "        s.append(f'{layer}{i} -- {layer}{i} [color=\"gray55\",dir=back];')\n",
        "    return '\\n'.join(s)\n",
        "\n",
        "s = f\"\"\"\n",
        "graph {{\n",
        "    size=\"10,10\"\n",
        "    graph [ranksep=\"1\"];\n",
        "    rankdir=LR;\n",
        "    splines=line;\n",
        "    subgraph cluster_input {{ label=\"Input layer\"; color=\"grey75\"; { input } }}\n",
        "    subgraph cluster_hidden1 {{ label=\"Hidden layer 1\"; color=\"grey75\"; { hidden1 } }}\n",
        "    { connections('i', 4, 'h1', 3)}\n",
        "    { addRecurrant('h1', 3) }\n",
        "    subgraph cluster_hidden2 {{ label=\"Hidden layer 2\"; color=\"grey75\"; { hidden2 } }}\n",
        "    { connections('h1', 3, 'h2', 3)}\n",
        "    { addRecurrant('h2', 3) }\n",
        "    subgraph cluster_output {{ label=\"Output layer\"; color=\"grey75\"; { output } }}\n",
        "    { connections('h2', 3, 'o', 1)}\n",
        "}}\n",
        "\"\"\"\n",
        "layoutGraph(s)"
      ]
    },
    {
      "cell_type": "markdown",
      "metadata": {
        "id": "SjDmL3iY2Aiv"
      },
      "source": [
        "Solve Problems 11.1, 11.2, and 11.3 on page 305 of your textbook."
      ]
    },
    {
      "cell_type": "code",
      "execution_count": null,
      "metadata": {
        "id": "Y_Oi1aAl2Aiv",
        "outputId": "15258fe2-28b4-4584-c73d-f54e4b399245"
      },
      "outputs": [
        {
          "name": "stdout",
          "output_type": "stream",
          "text": [
            "Final weights after one pass through the neural network:\n",
            "[[0.01735638]\n",
            " [0.45856901]]\n"
          ]
        }
      ],
      "source": [
        "#11.1\n",
        "#GLR65\n",
        "import numpy as np\n",
        "\n",
        "# Define sigmoid activation function\n",
        "def sigmoid(x):\n",
        "    return 1 / (1 + np.exp(-x))\n",
        "\n",
        "# Define derivative of sigmoid function\n",
        "def sigmoid_derivative(x):\n",
        "    return x * (1 - x)\n",
        "\n",
        "# Define neural network class\n",
        "class NeuralNetwork:\n",
        "    def __init__(self):\n",
        "        # Seed random number generator for reproducibility\n",
        "        np.random.seed(1)\n",
        "\n",
        "        # Initialize weights randomly with mean 0\n",
        "        self.weights = 2 * np.random.random((2, 1)) - 1\n",
        "\n",
        "    def train(self, X, y, epochs):\n",
        "        for epoch in range(epochs):\n",
        "            # Forward pass\n",
        "            input_layer = X\n",
        "            output = sigmoid(np.dot(input_layer, self.weights))\n",
        "\n",
        "            # Calculate error\n",
        "            error = y - output\n",
        "\n",
        "            # Update weights\n",
        "            adjustment = np.dot(input_layer.T, error * sigmoid_derivative(output))\n",
        "            self.weights += adjustment\n",
        "\n",
        "# Define training data\n",
        "X = np.array([[4, 43],\n",
        "              [18, 65],\n",
        "              [1, 53],\n",
        "              [3, 95],\n",
        "              [15, 88],\n",
        "              [6, 112]])\n",
        "\n",
        "y = np.array([[0],\n",
        "              [1],\n",
        "              [0],\n",
        "              [0],\n",
        "              [1],\n",
        "              [1]])\n",
        "\n",
        "# Scale the input features\n",
        "X_scaled = X / np.amax(X, axis=0)\n",
        "\n",
        "# Create neural network instance\n",
        "nn = NeuralNetwork()\n",
        "\n",
        "# Train the neural network\n",
        "nn.train(X_scaled, y, epochs=1)\n",
        "\n",
        "# Print final weights\n",
        "print(\"Final weights after one pass through the neural network:\")\n",
        "print(nn.weights)\n"
      ]
    },
    {
      "cell_type": "markdown",
      "metadata": {
        "id": "y_tq8QOh2Aiv"
      },
      "source": [
        "11.2\n",
        "The training technique is critical for improving a neural network's prediction accuracy. This procedure comprises iteratively modifying the network's internal characteristics, such as weights and biases, by studying and adjusting to errors discovered during the training phase.\n"
      ]
    },
    {
      "cell_type": "code",
      "execution_count": null,
      "metadata": {
        "id": "vk8ws9r92Aiv",
        "outputId": "0b7e1cde-6879-4828-c773-0fd4b7a8287a"
      },
      "outputs": [
        {
          "name": "stderr",
          "output_type": "stream",
          "text": [
            "C:\\Users\\gr0386\\AppData\\Roaming\\Python\\Python311\\site-packages\\sklearn\\neural_network\\_multilayer_perceptron.py:691: ConvergenceWarning: Stochastic Optimizer: Maximum iterations (200) reached and the optimization hasn't converged yet.\n",
            "  warnings.warn(\n",
            "C:\\Users\\gr0386\\AppData\\Roaming\\Python\\Python311\\site-packages\\sklearn\\neural_network\\_multilayer_perceptron.py:691: ConvergenceWarning: Stochastic Optimizer: Maximum iterations (200) reached and the optimization hasn't converged yet.\n",
            "  warnings.warn(\n"
          ]
        },
        {
          "name": "stdout",
          "output_type": "stream",
          "text": [
            "Hidden Layer Sizes: (2,)\n",
            "Train RMSE: 11288.04\n",
            "Validation RMSE: 11187.33\n",
            "\n",
            "Hidden Layer Sizes: (5,)\n",
            "Train RMSE: 11249.27\n",
            "Validation RMSE: 11148.29\n",
            "\n",
            "Hidden Layer Sizes: (5, 5)\n",
            "Train RMSE: 10562.11\n",
            "Validation RMSE: 10455.93\n",
            "\n"
          ]
        },
        {
          "name": "stderr",
          "output_type": "stream",
          "text": [
            "C:\\Users\\gr0386\\AppData\\Roaming\\Python\\Python311\\site-packages\\sklearn\\neural_network\\_multilayer_perceptron.py:691: ConvergenceWarning: Stochastic Optimizer: Maximum iterations (200) reached and the optimization hasn't converged yet.\n",
            "  warnings.warn(\n"
          ]
        }
      ],
      "source": [
        "#1111.3\n",
        "#GLR65\n",
        "import pandas as pd\n",
        "import numpy as np\n",
        "from sklearn.model_selection import train_test_split\n",
        "from sklearn.preprocessing import MinMaxScaler\n",
        "from sklearn.neural_network import MLPRegressor\n",
        "from sklearn.metrics import mean_squared_error\n",
        "\n",
        "# Load the dataset\n",
        "data = pd.read_csv(\"C:/Users/gr0386/Downloads/ToyotaCorolla (1).csv\")\n",
        "\n",
        "# Select relevant predictors and target variable\n",
        "predictors = ['Age_08_04', 'KM', 'Fuel_Type', 'HP', 'Automatic', 'Doors', 'Quarterly_Tax',\n",
        "              'Mfr_Guarantee', 'Guarantee_Period', 'Airco', 'Automatic_airco', 'CD_Player',\n",
        "              'Powered_Windows', 'Sport_Model', 'Tow_Bar']\n",
        "target = 'Price'\n",
        "\n",
        "# Preprocess the data\n",
        "X = pd.get_dummies(data[predictors], drop_first=True)\n",
        "y = data[target]\n",
        "\n",
        "# Scale the input data\n",
        "scaler_X = MinMaxScaler()\n",
        "X_scaled = scaler_X.fit_transform(X)\n",
        "\n",
        "# Split the data into training and validation sets\n",
        "X_train, X_val, y_train, y_val = train_test_split(X_scaled, y, test_size=0.2, random_state=42)\n",
        "\n",
        "# Define function to train and evaluate neural network model\n",
        "def train_and_evaluate_model(hidden_layer_sizes):\n",
        "    model = MLPRegressor(hidden_layer_sizes=hidden_layer_sizes, random_state=42)\n",
        "    model.fit(X_train, y_train)\n",
        "    y_train_pred = model.predict(X_train)\n",
        "    y_val_pred = model.predict(X_val)\n",
        "    train_rmse = np.sqrt(mean_squared_error(y_train, y_train_pred))\n",
        "    val_rmse = np.sqrt(mean_squared_error(y_val, y_val_pred))\n",
        "    return train_rmse, val_rmse\n",
        "\n",
        "# Train models with different configurations\n",
        "configs = [\n",
        "    (2,),            # Single hidden layer with two nodes\n",
        "    (5,),            # Single hidden layer with five nodes\n",
        "    (5, 5),          # Two hidden layers, five nodes in each layer\n",
        "]\n",
        "\n",
        "results = {}\n",
        "for config in configs:\n",
        "    train_rmse, val_rmse = train_and_evaluate_model(config)\n",
        "    results[config] = (train_rmse, val_rmse)\n",
        "\n",
        "# Print results\n",
        "for config, (train_rmse, val_rmse) in results.items():\n",
        "    print(f\"Hidden Layer Sizes: {config}\")\n",
        "    print(f\"Train RMSE: {train_rmse:.2f}\")\n",
        "    print(f\"Validation RMSE: {val_rmse:.2f}\")\n",
        "    print()\n",
        "\n",
        "# Analyze results to answer questions\n",
        "# i. What happens to the RMS error for the training data as the number of layers and nodes increases?\n",
        "# As the number of layers and nodes increases, the training RMSE tends to decrease.\n",
        "\n",
        "# ii. What happens to the RMS error for the validation data?\n",
        "# The effect on the validation RMSE may vary depending on the specific configuration. In general, increasing the complexity of the model (more layers and nodes) may lead to overfitting, resulting in higher validation RMSE.\n",
        "\n",
        "# iii. Comment on the appropriate number of layers and nodes for this application.\n",
        "# The appropriate number of layers and nodes should be determined based on a balance between model complexity and performance on the validation data. It's important to avoid overfitting by selecting a model that generalizes well to unseen data. This may involve conducting further experimentation and possibly using techniques like cross-validation.\n"
      ]
    },
    {
      "cell_type": "code",
      "execution_count": null,
      "metadata": {
        "id": "WwjFtAMc2Aiv",
        "outputId": "3f71e2ef-c04b-492d-85b7-9c48f91b7908"
      },
      "outputs": [
        {
          "name": "stdout",
          "output_type": "stream",
          "text": [
            "Defaulting to user installation because normal site-packages is not writeableNote: you may need to restart the kernel to use updated packages.\n",
            "\n",
            "Requirement already satisfied: graphviz in c:\\users\\gr0386\\appdata\\roaming\\python\\python311\\site-packages (0.20.1)\n"
          ]
        }
      ],
      "source": [
        "pip install graphviz"
      ]
    },
    {
      "cell_type": "code",
      "execution_count": null,
      "metadata": {
        "id": "PrIkgzay2Aiv"
      },
      "outputs": [],
      "source": []
    }
  ],
  "metadata": {
    "colab": {
      "provenance": [],
      "include_colab_link": true
    },
    "kernelspec": {
      "display_name": "Python 3 (ipykernel)",
      "language": "python",
      "name": "python3"
    },
    "language_info": {
      "codemirror_mode": {
        "name": "ipython",
        "version": 3
      },
      "file_extension": ".py",
      "mimetype": "text/x-python",
      "name": "python",
      "nbconvert_exporter": "python",
      "pygments_lexer": "ipython3",
      "version": "3.11.5"
    }
  },
  "nbformat": 4,
  "nbformat_minor": 0
}